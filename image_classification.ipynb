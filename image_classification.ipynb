{
  "nbformat": 4,
  "nbformat_minor": 0,
  "metadata": {
    "colab": {
      "name": "image_classification.ipynb",
      "version": "0.3.2",
      "views": {},
      "default_view": {},
      "provenance": [],
      "collapsed_sections": []
    },
    "kernelspec": {
      "display_name": "Python 3",
      "language": "python",
      "name": "python3"
    },
    "accelerator": "GPU"
  },
  "cells": [
    {
      "metadata": {
        "id": "VziQWf2LUpqY",
        "colab_type": "text"
      },
      "cell_type": "markdown",
      "source": [
        "# Image Classification\n",
        "In this project, you'll classify images from the [CIFAR-10 dataset](https://www.cs.toronto.edu/~kriz/cifar.html).  The dataset consists of airplanes, dogs, cats, and other objects. You'll preprocess the images, then train a convolutional neural network on all the samples. The images need to be normalized and the labels need to be one-hot encoded.  You'll get to apply what you learned and build a convolutional, max pooling, dropout, and fully connected layers.  At the end, you'll get to see your neural network's predictions on the sample images.\n",
        "## Get the Data\n",
        "Run the following cell to download the [CIFAR-10 dataset for python](https://www.cs.toronto.edu/~kriz/cifar-10-python.tar.gz)."
      ]
    },
    {
      "metadata": {
        "id": "UJtChHCFUpqa",
        "colab_type": "code",
        "colab": {
          "autoexec": {
            "startup": false,
            "wait_interval": 0
          },
          "base_uri": "https://localhost:8080/",
          "height": 34
        },
        "outputId": "5ea56b21-c21a-4fd6-c03e-5395716d6d0f",
        "executionInfo": {
          "status": "ok",
          "timestamp": 1526803730977,
          "user_tz": -330,
          "elapsed": 11352,
          "user": {
            "displayName": "Anirudh Ramanan",
            "photoUrl": "//lh5.googleusercontent.com/-kMZhKh_0Vb0/AAAAAAAAAAI/AAAAAAAAADA/FyyNUl3dTFs/s50-c-k-no/photo.jpg",
            "userId": "107972823913344955047"
          }
        }
      },
      "cell_type": "code",
      "source": [
        "\"\"\"\n",
        "DON'T MODIFY ANYTHING IN THIS CELL THAT IS BELOW THIS LINE\n",
        "\"\"\"\n",
        "from urllib.request import urlretrieve\n",
        "from os.path import isfile, isdir\n",
        "from tqdm import tqdm\n",
        "import problem_unittests as tests\n",
        "import tarfile\n",
        "\n",
        "cifar10_dataset_folder_path = 'cifar-10-batches-py'\n",
        "\n",
        "class DLProgress(tqdm):\n",
        "    last_block = 0\n",
        "\n",
        "    def hook(self, block_num=1, block_size=1, total_size=None):\n",
        "        self.total = total_size\n",
        "        self.update((block_num - self.last_block) * block_size)\n",
        "        self.last_block = block_num\n",
        "\n",
        "if not isfile('cifar-10-python.tar.gz'):\n",
        "    with DLProgress(unit='B', unit_scale=True, miniters=1, desc='CIFAR-10 Dataset') as pbar:\n",
        "        urlretrieve(\n",
        "            'https://www.cs.toronto.edu/~kriz/cifar-10-python.tar.gz',\n",
        "            'cifar-10-python.tar.gz',\n",
        "            pbar.hook)\n",
        "\n",
        "if not isdir(cifar10_dataset_folder_path):\n",
        "    with tarfile.open('cifar-10-python.tar.gz') as tar:\n",
        "        tar.extractall()\n",
        "        tar.close()\n",
        "\n",
        "\n",
        "tests.test_folder_path(cifar10_dataset_folder_path)"
      ],
      "execution_count": 12,
      "outputs": [
        {
          "output_type": "stream",
          "text": [
            "All files found!\n"
          ],
          "name": "stdout"
        }
      ]
    },
    {
      "metadata": {
        "id": "H5VKMAYPUpqg",
        "colab_type": "text"
      },
      "cell_type": "markdown",
      "source": [
        "## Explore the Data\n",
        "The dataset is broken into batches to prevent your machine from running out of memory.  The CIFAR-10 dataset consists of 5 batches, named `data_batch_1`, `data_batch_2`, etc.. Each batch contains the labels and images that are one of the following:\n",
        "* airplane\n",
        "* automobile\n",
        "* bird\n",
        "* cat\n",
        "* deer\n",
        "* dog\n",
        "* frog\n",
        "* horse\n",
        "* ship\n",
        "* truck\n",
        "\n",
        "Understanding a dataset is part of making predictions on the data.  Play around with the code cell below by changing the `batch_id` and `sample_id`. The `batch_id` is the id for a batch (1-5). The `sample_id` is the id for a image and label pair in the batch.\n",
        "\n",
        "Ask yourself \"What are all possible labels?\", \"What is the range of values for the image data?\", \"Are the labels in order or random?\".  Answers to questions like these will help you preprocess the data and end up with better predictions."
      ]
    },
    {
      "metadata": {
        "id": "QxitUIQKUpqg",
        "colab_type": "code",
        "colab": {
          "autoexec": {
            "startup": false,
            "wait_interval": 0
          },
          "base_uri": "https://localhost:8080/",
          "height": 435
        },
        "outputId": "b80f8c51-358d-465a-8200-7866565e5b68",
        "executionInfo": {
          "status": "ok",
          "timestamp": 1526803745817,
          "user_tz": -330,
          "elapsed": 5159,
          "user": {
            "displayName": "Anirudh Ramanan",
            "photoUrl": "//lh5.googleusercontent.com/-kMZhKh_0Vb0/AAAAAAAAAAI/AAAAAAAAADA/FyyNUl3dTFs/s50-c-k-no/photo.jpg",
            "userId": "107972823913344955047"
          }
        }
      },
      "cell_type": "code",
      "source": [
        "%matplotlib inline\n",
        "%config InlineBackend.figure_format = 'retina'\n",
        "\n",
        "import helper\n",
        "import numpy as np\n",
        "\n",
        "# Explore the dataset\n",
        "batch_id = 1\n",
        "sample_id = 900\n",
        "helper.display_stats(cifar10_dataset_folder_path, batch_id, sample_id)"
      ],
      "execution_count": 13,
      "outputs": [
        {
          "output_type": "stream",
          "text": [
            "\n",
            "Stats of batch 1:\n",
            "Samples: 10000\n",
            "Label Counts: {0: 1005, 1: 974, 2: 1032, 3: 1016, 4: 999, 5: 937, 6: 1030, 7: 1001, 8: 1025, 9: 981}\n",
            "First 20 Labels: [6, 9, 9, 4, 1, 1, 2, 7, 8, 3, 4, 7, 7, 2, 9, 9, 9, 3, 2, 6]\n",
            "\n",
            "Example of Image 900:\n",
            "Image - Min Value: 10 Max Value: 255\n",
            "Image - Shape: (32, 32, 3)\n",
            "Label - Label Id: 9 Name: truck\n"
          ],
          "name": "stdout"
        },
        {
          "output_type": "display_data",
          "data": {
            "image/png": "[encoded data removed]",
            "text/plain": [
              "<matplotlib.figure.Figure at 0x7f40f0e3b668>"
            ]
          },
          "metadata": {
            "tags": [],
            "image/png": {
              "width": 249,
              "height": 248
            }
          }
        }
      ]
    },
    {
      "metadata": {
        "id": "4Q1tdULwUpqj",
        "colab_type": "text"
      },
      "cell_type": "markdown",
      "source": [
        "## Implement Preprocess Functions\n",
        "### Normalize\n",
        "In the cell below, implement the `normalize` function to take in image data, `x`, and return it as a normalized Numpy array. The values should be in the range of 0 to 1, inclusive.  The return object should be the same shape as `x`."
      ]
    },
    {
      "metadata": {
        "id": "sSHIkHpWUpql",
        "colab_type": "code",
        "colab": {
          "autoexec": {
            "startup": false,
            "wait_interval": 0
          },
          "base_uri": "https://localhost:8080/",
          "height": 34
        },
        "outputId": "7052502c-8221-4dc0-f5b2-62f8188fafc9",
        "executionInfo": {
          "status": "ok",
          "timestamp": 1526803749297,
          "user_tz": -330,
          "elapsed": 961,
          "user": {
            "displayName": "Anirudh Ramanan",
            "photoUrl": "//lh5.googleusercontent.com/-kMZhKh_0Vb0/AAAAAAAAAAI/AAAAAAAAADA/FyyNUl3dTFs/s50-c-k-no/photo.jpg",
            "userId": "107972823913344955047"
          }
        }
      },
      "cell_type": "code",
      "source": [
        "def normalize(x):\n",
        "    \"\"\"\n",
        "    Normalize a list of sample image data in the range of 0 to 1\n",
        "    : x: List of image data.  The image shape is (32, 32, 3)\n",
        "    : return: Numpy array of normalize data\n",
        "    \"\"\"\n",
        "    minX = np.min(x);\n",
        "    maxX = np.max(x);\n",
        "    diff = maxX - minX;\n",
        "    xArray = list()\n",
        "    \n",
        "    for singleX in x:\n",
        "        xArray.append((singleX - minX) / diff)\n",
        "    \n",
        "    return np.array(xArray)\n",
        "\n",
        "\n",
        "\"\"\"\n",
        "DON'T MODIFY ANYTHING IN THIS CELL THAT IS BELOW THIS LINE\n",
        "\"\"\"\n",
        "tests.test_normalize(normalize)"
      ],
      "execution_count": 14,
      "outputs": [
        {
          "output_type": "stream",
          "text": [
            "Tests Passed\n"
          ],
          "name": "stdout"
        }
      ]
    },
    {
      "metadata": {
        "id": "r_Jaf6CAUpqn",
        "colab_type": "text"
      },
      "cell_type": "markdown",
      "source": [
        "### One-hot encode\n",
        "Just like the previous code cell, you'll be implementing a function for preprocessing.  This time, you'll implement the `one_hot_encode` function. The input, `x`, are a list of labels.  Implement the function to return the list of labels as One-Hot encoded Numpy array.  The possible values for labels are 0 to 9. The one-hot encoding function should return the same encoding for each value between each call to `one_hot_encode`.  Make sure to save the map of encodings outside the function.\n",
        "\n",
        "**Hint:**\n",
        "\n",
        "Look into LabelBinarizer in the preprocessing module of sklearn."
      ]
    },
    {
      "metadata": {
        "id": "b37bi8oZUpqo",
        "colab_type": "code",
        "colab": {
          "autoexec": {
            "startup": false,
            "wait_interval": 0
          },
          "base_uri": "https://localhost:8080/",
          "height": 34
        },
        "outputId": "673f9db4-bea9-45e9-e5f9-e1423c744386",
        "executionInfo": {
          "status": "ok",
          "timestamp": 1526803754753,
          "user_tz": -330,
          "elapsed": 942,
          "user": {
            "displayName": "Anirudh Ramanan",
            "photoUrl": "//lh5.googleusercontent.com/-kMZhKh_0Vb0/AAAAAAAAAAI/AAAAAAAAADA/FyyNUl3dTFs/s50-c-k-no/photo.jpg",
            "userId": "107972823913344955047"
          }
        }
      },
      "cell_type": "code",
      "source": [
        "def one_hot_encode(x):\n",
        "    \"\"\"\n",
        "    One hot encode a list of sample labels. Return a one-hot encoded vector for each label.\n",
        "    : x: List of sample Labels\n",
        "    : return: Numpy array of one-hot encoded labels\n",
        "    \"\"\"\n",
        "    from sklearn.preprocessing import OneHotEncoder\n",
        "    enc = OneHotEncoder(n_values=10)\n",
        "    array = enc.fit_transform(np.array(x).reshape(-1, 1)).toarray()\n",
        "\n",
        "    return array\n",
        "\n",
        "\n",
        "\"\"\"\n",
        "DON'T MODIFY ANYTHING IN THIS CELL THAT IS BELOW THIS LINE\n",
        "\"\"\"\n",
        "tests.test_one_hot_encode(one_hot_encode)"
      ],
      "execution_count": 15,
      "outputs": [
        {
          "output_type": "stream",
          "text": [
            "Tests Passed\n"
          ],
          "name": "stdout"
        }
      ]
    },
    {
      "metadata": {
        "id": "kpxAjSpDUpqs",
        "colab_type": "text"
      },
      "cell_type": "markdown",
      "source": [
        "### Randomize Data\n",
        "As you saw from exploring the data above, the order of the samples are randomized.  It doesn't hurt to randomize it again, but you don't need to for this dataset."
      ]
    },
    {
      "metadata": {
        "id": "VBRx1W-IUpqt",
        "colab_type": "text"
      },
      "cell_type": "markdown",
      "source": [
        "## Preprocess all the data and save it\n",
        "Running the code cell below will preprocess all the CIFAR-10 data and save it to file. The code below also uses 10% of the training data for validation."
      ]
    },
    {
      "metadata": {
        "id": "HzrP4WikUpqt",
        "colab_type": "code",
        "colab": {
          "autoexec": {
            "startup": false,
            "wait_interval": 0
          }
        }
      },
      "cell_type": "code",
      "source": [
        "\"\"\"\n",
        "DON'T MODIFY ANYTHING IN THIS CELL\n",
        "\"\"\"\n",
        "# Preprocess Training, Validation, and Testing Data\n",
        "helper.preprocess_and_save_data(cifar10_dataset_folder_path, normalize, one_hot_encode)"
      ],
      "execution_count": 0,
      "outputs": []
    },
    {
      "metadata": {
        "id": "miT3Eo2kUpqw",
        "colab_type": "text"
      },
      "cell_type": "markdown",
      "source": [
        "# Check Point\n",
        "This is your first checkpoint.  If you ever decide to come back to this notebook or have to restart the notebook, you can start from here.  The preprocessed data has been saved to disk."
      ]
    },
    {
      "metadata": {
        "id": "gAXuS8Y0Upqx",
        "colab_type": "code",
        "colab": {
          "autoexec": {
            "startup": false,
            "wait_interval": 0
          }
        }
      },
      "cell_type": "code",
      "source": [
        "\"\"\"\n",
        "DON'T MODIFY ANYTHING IN THIS CELL\n",
        "\"\"\"\n",
        "import pickle\n",
        "import problem_unittests as tests\n",
        "import helper\n",
        "\n",
        "# Load the Preprocessed Validation data\n",
        "valid_features, valid_labels = pickle.load(open('preprocess_validation.p', mode='rb'))"
      ],
      "execution_count": 0,
      "outputs": []
    },
    {
      "metadata": {
        "id": "F2oWNhhCUpq1",
        "colab_type": "text"
      },
      "cell_type": "markdown",
      "source": [
        "## Build the network\n",
        "For the neural network, you'll build each layer into a function.  Most of the code you've seen has been outside of functions. To test your code more thoroughly, we require that you put each layer in a function.  This allows us to give you better feedback and test for simple mistakes using our unittests before you submit your project.\n",
        "\n",
        ">**Note:** If you're finding it hard to dedicate enough time for this course each week, we've provided a small shortcut to this part of the project. In the next couple of problems, you'll have the option to use classes from the [TensorFlow Layers](https://www.tensorflow.org/api_docs/python/tf/layers) or [TensorFlow Layers (contrib)](https://www.tensorflow.org/api_guides/python/contrib.layers) packages to build each layer, except the layers you build in the \"Convolutional and Max Pooling Layer\" section.  TF Layers is similar to Keras's and TFLearn's abstraction to layers, so it's easy to pickup.\n",
        "\n",
        ">However, if you would like to get the most out of this course, try to solve all the problems _without_ using anything from the TF Layers packages. You **can** still use classes from other packages that happen to have the same name as ones you find in TF Layers! For example, instead of using the TF Layers version of the `conv2d` class, [tf.layers.conv2d](https://www.tensorflow.org/api_docs/python/tf/layers/conv2d), you would want to use the TF Neural Network version of `conv2d`, [tf.nn.conv2d](https://www.tensorflow.org/api_docs/python/tf/nn/conv2d). \n",
        "\n",
        "Let's begin!\n",
        "\n",
        "### Input\n",
        "The neural network needs to read the image data, one-hot encoded labels, and dropout keep probability. Implement the following functions\n",
        "* Implement `neural_net_image_input`\n",
        " * Return a [TF Placeholder](https://www.tensorflow.org/api_docs/python/tf/placeholder)\n",
        " * Set the shape using `image_shape` with batch size set to `None`.\n",
        " * Name the TensorFlow placeholder \"x\" using the TensorFlow `name` parameter in the [TF Placeholder](https://www.tensorflow.org/api_docs/python/tf/placeholder).\n",
        "* Implement `neural_net_label_input`\n",
        " * Return a [TF Placeholder](https://www.tensorflow.org/api_docs/python/tf/placeholder)\n",
        " * Set the shape using `n_classes` with batch size set to `None`.\n",
        " * Name the TensorFlow placeholder \"y\" using the TensorFlow `name` parameter in the [TF Placeholder](https://www.tensorflow.org/api_docs/python/tf/placeholder).\n",
        "* Implement `neural_net_keep_prob_input`\n",
        " * Return a [TF Placeholder](https://www.tensorflow.org/api_docs/python/tf/placeholder) for dropout keep probability.\n",
        " * Name the TensorFlow placeholder \"keep_prob\" using the TensorFlow `name` parameter in the [TF Placeholder](https://www.tensorflow.org/api_docs/python/tf/placeholder).\n",
        "\n",
        "These names will be used at the end of the project to load your saved model.\n",
        "\n",
        "Note: `None` for shapes in TensorFlow allow for a dynamic size."
      ]
    },
    {
      "metadata": {
        "id": "CZZrEdosUpq1",
        "colab_type": "code",
        "colab": {
          "autoexec": {
            "startup": false,
            "wait_interval": 0
          },
          "base_uri": "https://localhost:8080/",
          "height": 68
        },
        "outputId": "4828c2c1-d185-41fb-af5a-6f701093c1e0",
        "executionInfo": {
          "status": "ok",
          "timestamp": 1526803978775,
          "user_tz": -330,
          "elapsed": 869,
          "user": {
            "displayName": "Anirudh Ramanan",
            "photoUrl": "//lh5.googleusercontent.com/-kMZhKh_0Vb0/AAAAAAAAAAI/AAAAAAAAADA/FyyNUl3dTFs/s50-c-k-no/photo.jpg",
            "userId": "107972823913344955047"
          }
        }
      },
      "cell_type": "code",
      "source": [
        "import tensorflow as tf\n",
        "\n",
        "def neural_net_image_input(image_shape):\n",
        "    \"\"\"\n",
        "    Return a Tensor for a batch of image input\n",
        "    : image_shape: Shape of the images\n",
        "    : return: Tensor for image input.\n",
        "    \"\"\"\n",
        "    return tf.placeholder(tf.float32, shape=[None, image_shape[0], image_shape[1], image_shape[2]], name='x')\n",
        "\n",
        "\n",
        "def neural_net_label_input(n_classes):\n",
        "    \"\"\"\n",
        "    Return a Tensor for a batch of label input\n",
        "    : n_classes: Number of classes\n",
        "    : return: Tensor for label input.\n",
        "    \"\"\"\n",
        "    return tf.placeholder(tf.float32, shape=(None, n_classes), name=\"y\")\n",
        "\n",
        "\n",
        "def neural_net_keep_prob_input():\n",
        "    \"\"\"\n",
        "    Return a Tensor for keep probability\n",
        "    : return: Tensor for keep probability.\n",
        "    \"\"\"\n",
        "    return tf.placeholder(tf.float32, shape=(None), name='keep_prob')\n",
        "\n",
        "\n",
        "\"\"\"\n",
        "DON'T MODIFY ANYTHING IN THIS CELL THAT IS BELOW THIS LINE\n",
        "\"\"\"\n",
        "tf.reset_default_graph()\n",
        "tests.test_nn_image_inputs(neural_net_image_input)\n",
        "tests.test_nn_label_inputs(neural_net_label_input)\n",
        "tests.test_nn_keep_prob_inputs(neural_net_keep_prob_input)"
      ],
      "execution_count": 18,
      "outputs": [
        {
          "output_type": "stream",
          "text": [
            "Image Input Tests Passed.\n",
            "Label Input Tests Passed.\n",
            "Keep Prob Tests Passed.\n"
          ],
          "name": "stdout"
        }
      ]
    },
    {
      "metadata": {
        "id": "HFm2MXLFUpq5",
        "colab_type": "text"
      },
      "cell_type": "markdown",
      "source": [
        "### Convolution and Max Pooling Layer\n",
        "Convolution layers have a lot of success with images. For this code cell, you should implement the function `conv2d_maxpool` to apply convolution then max pooling:\n",
        "* Create the weight and bias using `conv_ksize`, `conv_num_outputs` and the shape of `x_tensor`.\n",
        "* Apply a convolution to `x_tensor` using weight and `conv_strides`.\n",
        " * We recommend you use same padding, but you're welcome to use any padding.\n",
        "* Add bias\n",
        "* Add a nonlinear activation to the convolution.\n",
        "* Apply Max Pooling using `pool_ksize` and `pool_strides`.\n",
        " * We recommend you use same padding, but you're welcome to use any padding.\n",
        "\n",
        "**Note:** You **can't** use [TensorFlow Layers](https://www.tensorflow.org/api_docs/python/tf/layers) or [TensorFlow Layers (contrib)](https://www.tensorflow.org/api_guides/python/contrib.layers) for **this** layer, but you can still use TensorFlow's [Neural Network](https://www.tensorflow.org/api_docs/python/tf/nn) package. You may still use the shortcut option for all the **other** layers.\n",
        "\n",
        "** Hint: **\n",
        "\n",
        "When unpacking values as an argument in Python, look into the [unpacking](https://docs.python.org/3/tutorial/controlflow.html#unpacking-argument-lists) operator. "
      ]
    },
    {
      "metadata": {
        "id": "KJ-5LHOQUpq6",
        "colab_type": "code",
        "colab": {
          "autoexec": {
            "startup": false,
            "wait_interval": 0
          },
          "base_uri": "https://localhost:8080/",
          "height": 34
        },
        "outputId": "dd825531-df39-4e65-970e-3d1d6252bd46",
        "executionInfo": {
          "status": "ok",
          "timestamp": 1526803981745,
          "user_tz": -330,
          "elapsed": 955,
          "user": {
            "displayName": "Anirudh Ramanan",
            "photoUrl": "//lh5.googleusercontent.com/-kMZhKh_0Vb0/AAAAAAAAAAI/AAAAAAAAADA/FyyNUl3dTFs/s50-c-k-no/photo.jpg",
            "userId": "107972823913344955047"
          }
        }
      },
      "cell_type": "code",
      "source": [
        "def conv2d_maxpool(x_tensor, conv_num_outputs, conv_ksize, conv_strides, pool_ksize, pool_strides):\n",
        "    \"\"\"\n",
        "    Apply convolution then max pooling to x_tensor\n",
        "    :param x_tensor: TensorFlow Tensor\n",
        "    :param conv_num_outputs: Number of outputs for the convolutional layer\n",
        "    :param conv_ksize: kernal size 2-D Tuple for the convolutional layer\n",
        "    :param conv_strides: Stride 2-D Tuple for convolution\n",
        "    :param pool_ksize: kernal size 2-D Tuple for pool\n",
        "    :param pool_strides: Stride 2-D Tuple for pool\n",
        "    : return: A tensor that represents convolution and max pooling of x_tensor\n",
        "    \"\"\"\n",
        "    # define weight\n",
        "    weight = tf.Variable(tf.truncated_normal([conv_ksize[0], conv_ksize[1],\n",
        "                                              x_tensor.get_shape().as_list()[3], conv_num_outputs], stddev=0.1))\n",
        "    \n",
        "    # define bias\n",
        "    bias = tf.Variable(tf.zeros(conv_num_outputs))\n",
        "\n",
        "    # apply convolution\n",
        "    conv = tf.nn.conv2d(x_tensor, weight, strides=[1, conv_strides[0], conv_strides[1], 1], padding='SAME')\n",
        "    \n",
        "    # apply bias\n",
        "    conv = tf.nn.bias_add(conv, bias)\n",
        "    \n",
        "    # apply activation\n",
        "    conv = tf.nn.relu(conv)\n",
        "    \n",
        "    # apply max pool to the covnet\n",
        "    conv = tf.nn.max_pool(conv, ksize=[1, pool_ksize[0], pool_ksize[1], 1], \n",
        "                          strides=[1, pool_strides[0], pool_strides[1], 1], padding='SAME')\n",
        "    \n",
        "    return conv \n",
        "\n",
        "\n",
        "\"\"\"\n",
        "DON'T MODIFY ANYTHING IN THIS CELL THAT IS BELOW THIS LINE\n",
        "\"\"\"\n",
        "tests.test_con_pool(conv2d_maxpool)"
      ],
      "execution_count": 19,
      "outputs": [
        {
          "output_type": "stream",
          "text": [
            "Tests Passed\n"
          ],
          "name": "stdout"
        }
      ]
    },
    {
      "metadata": {
        "id": "OOQ8RLVmUpq8",
        "colab_type": "text"
      },
      "cell_type": "markdown",
      "source": [
        "### Flatten Layer\n",
        "Implement the `flatten` function to change the dimension of `x_tensor` from a 4-D tensor to a 2-D tensor.  The output should be the shape (*Batch Size*, *Flattened Image Size*). Shortcut option: you can use classes from the [TensorFlow Layers](https://www.tensorflow.org/api_docs/python/tf/layers) or [TensorFlow Layers (contrib)](https://www.tensorflow.org/api_guides/python/contrib.layers) packages for this layer. For more of a challenge, only use other TensorFlow packages."
      ]
    },
    {
      "metadata": {
        "id": "RVF2KZf2Upq-",
        "colab_type": "code",
        "colab": {
          "autoexec": {
            "startup": false,
            "wait_interval": 0
          },
          "base_uri": "https://localhost:8080/",
          "height": 68
        },
        "outputId": "d4885d17-0446-4a48-89e8-17a97bec5f10",
        "executionInfo": {
          "status": "ok",
          "timestamp": 1526803983758,
          "user_tz": -330,
          "elapsed": 883,
          "user": {
            "displayName": "Anirudh Ramanan",
            "photoUrl": "//lh5.googleusercontent.com/-kMZhKh_0Vb0/AAAAAAAAAAI/AAAAAAAAADA/FyyNUl3dTFs/s50-c-k-no/photo.jpg",
            "userId": "107972823913344955047"
          }
        }
      },
      "cell_type": "code",
      "source": [
        "def flatten(x_tensor):\n",
        "    \"\"\"\n",
        "    Flatten x_tensor to (Batch Size, Flattened Image Size)\n",
        "    : x_tensor: A tensor of size (Batch Size, ...), where ... are the image dimensions.\n",
        "    : return: A tensor of size (Batch Size, Flattened Image Size).\n",
        "    \"\"\"\n",
        "    shape = x_tensor.get_shape().as_list()\n",
        "    print(shape)\n",
        "    dim = np.array(shape[1:]).prod()\n",
        "    print(dim)\n",
        "    flatten_shape = tf.reshape(x_tensor, [tf.shape(x_tensor)[0], dim])\n",
        "    \n",
        "    return flatten_shape\n",
        "\n",
        "\n",
        "\"\"\"\n",
        "DON'T MODIFY ANYTHING IN THIS CELL THAT IS BELOW THIS LINE\n",
        "\"\"\"\n",
        "tests.test_flatten(flatten)"
      ],
      "execution_count": 20,
      "outputs": [
        {
          "output_type": "stream",
          "text": [
            "[None, 10, 30, 6]\n",
            "1800\n",
            "Tests Passed\n"
          ],
          "name": "stdout"
        }
      ]
    },
    {
      "metadata": {
        "id": "EjRyCahNUprD",
        "colab_type": "text"
      },
      "cell_type": "markdown",
      "source": [
        "### Fully-Connected Layer\n",
        "Implement the `fully_conn` function to apply a fully connected layer to `x_tensor` with the shape (*Batch Size*, *num_outputs*). Shortcut option: you can use classes from the [TensorFlow Layers](https://www.tensorflow.org/api_docs/python/tf/layers) or [TensorFlow Layers (contrib)](https://www.tensorflow.org/api_guides/python/contrib.layers) packages for this layer. For more of a challenge, only use other TensorFlow packages."
      ]
    },
    {
      "metadata": {
        "id": "H6lX__QlUprE",
        "colab_type": "code",
        "colab": {
          "autoexec": {
            "startup": false,
            "wait_interval": 0
          },
          "base_uri": "https://localhost:8080/",
          "height": 34
        },
        "outputId": "63ca82d0-2439-46ad-8c9a-d445f22027a8",
        "executionInfo": {
          "status": "ok",
          "timestamp": 1526803986112,
          "user_tz": -330,
          "elapsed": 934,
          "user": {
            "displayName": "Anirudh Ramanan",
            "photoUrl": "//lh5.googleusercontent.com/-kMZhKh_0Vb0/AAAAAAAAAAI/AAAAAAAAADA/FyyNUl3dTFs/s50-c-k-no/photo.jpg",
            "userId": "107972823913344955047"
          }
        }
      },
      "cell_type": "code",
      "source": [
        "def fully_conn(x_tensor, num_outputs):\n",
        "    \"\"\"\n",
        "    Apply a fully connected layer to x_tensor using weight and bias\n",
        "    : x_tensor: A 2-D tensor where the first dimension is batch size.\n",
        "    : num_outputs: The number of output that the new tensor should be.\n",
        "    : return: A 2-D tensor where the second dimension is num_outputs.\n",
        "    \"\"\"\n",
        "    # get the tensor shape as a list\n",
        "    shape = x_tensor.get_shape().as_list()\n",
        "    \n",
        "    # calculate the flattened shape\n",
        "    flattened_shape = np.array(shape[1:]).prod()\n",
        "    \n",
        "    # initialise weights\n",
        "    weights = tf.Variable(tf.truncated_normal([flattened_shape, num_outputs], stddev=0.04))\n",
        "    \n",
        "    # initialise bias\n",
        "    bias = tf.Variable(tf.zeros(num_outputs))\n",
        "    \n",
        "    return tf.nn.relu(tf.add(tf.matmul(x_tensor, weights), bias))\n",
        "\n",
        "\n",
        "\"\"\"\n",
        "DON'T MODIFY ANYTHING IN THIS CELL THAT IS BELOW THIS LINE\n",
        "\"\"\"\n",
        "tests.test_fully_conn(fully_conn)"
      ],
      "execution_count": 21,
      "outputs": [
        {
          "output_type": "stream",
          "text": [
            "Tests Passed\n"
          ],
          "name": "stdout"
        }
      ]
    },
    {
      "metadata": {
        "id": "6jDhPys4UprH",
        "colab_type": "text"
      },
      "cell_type": "markdown",
      "source": [
        "### Output Layer\n",
        "Implement the `output` function to apply a fully connected layer to `x_tensor` with the shape (*Batch Size*, *num_outputs*). Shortcut option: you can use classes from the [TensorFlow Layers](https://www.tensorflow.org/api_docs/python/tf/layers) or [TensorFlow Layers (contrib)](https://www.tensorflow.org/api_guides/python/contrib.layers) packages for this layer. For more of a challenge, only use other TensorFlow packages.\n",
        "\n",
        "**Note:** Activation, softmax, or cross entropy should **not** be applied to this."
      ]
    },
    {
      "metadata": {
        "id": "MWKDbR0RUprI",
        "colab_type": "code",
        "colab": {
          "autoexec": {
            "startup": false,
            "wait_interval": 0
          },
          "base_uri": "https://localhost:8080/",
          "height": 34
        },
        "outputId": "26378360-7be5-4cab-a395-44b76d02a049",
        "executionInfo": {
          "status": "ok",
          "timestamp": 1526803988105,
          "user_tz": -330,
          "elapsed": 919,
          "user": {
            "displayName": "Anirudh Ramanan",
            "photoUrl": "//lh5.googleusercontent.com/-kMZhKh_0Vb0/AAAAAAAAAAI/AAAAAAAAADA/FyyNUl3dTFs/s50-c-k-no/photo.jpg",
            "userId": "107972823913344955047"
          }
        }
      },
      "cell_type": "code",
      "source": [
        "def output(x_tensor, num_outputs):\n",
        "    \"\"\"\n",
        "    Apply a output layer to x_tensor using weight and bias\n",
        "    : x_tensor: A 2-D tensor where the first dimension is batch size.\n",
        "    : num_outputs: The number of output that the new tensor should be.\n",
        "    : return: A 2-D tensor where the second dimension is num_outputs.\n",
        "    \"\"\"\n",
        "    # get the tensor shape as a list\n",
        "    shape = x_tensor.get_shape().as_list()\n",
        "    \n",
        "    # calculate the flattened shape\n",
        "    flattened_shape = np.array(shape[1:]).prod()\n",
        "    \n",
        "    # initialise weights\n",
        "    weights = tf.Variable(tf.truncated_normal([flattened_shape, num_outputs], stddev=0.04))\n",
        "    \n",
        "    # initialise bias\n",
        "    bias = tf.Variable(tf.zeros(num_outputs))\n",
        "    \n",
        "    return tf.add(tf.matmul(x_tensor, weights), bias)\n",
        "\n",
        "\n",
        "\"\"\"\n",
        "DON'T MODIFY ANYTHING IN THIS CELL THAT IS BELOW THIS LINE\n",
        "\"\"\"\n",
        "tests.test_output(output)"
      ],
      "execution_count": 22,
      "outputs": [
        {
          "output_type": "stream",
          "text": [
            "Tests Passed\n"
          ],
          "name": "stdout"
        }
      ]
    },
    {
      "metadata": {
        "id": "Au98HyxMUprK",
        "colab_type": "text"
      },
      "cell_type": "markdown",
      "source": [
        "### Create Convolutional Model\n",
        "Implement the function `conv_net` to create a convolutional neural network model. The function takes in a batch of images, `x`, and outputs logits.  Use the layers you created above to create this model:\n",
        "\n",
        "* Apply 1, 2, or 3 Convolution and Max Pool layers\n",
        "* Apply a Flatten Layer\n",
        "* Apply 1, 2, or 3 Fully Connected Layers\n",
        "* Apply an Output Layer\n",
        "* Return the output\n",
        "* Apply [TensorFlow's Dropout](https://www.tensorflow.org/api_docs/python/tf/nn/dropout) to one or more layers in the model using `keep_prob`. "
      ]
    },
    {
      "metadata": {
        "id": "-CpAGd3kUprM",
        "colab_type": "code",
        "colab": {
          "autoexec": {
            "startup": false,
            "wait_interval": 0
          },
          "base_uri": "https://localhost:8080/",
          "height": 102
        },
        "outputId": "5ce55167-0667-4c97-850a-039e029dda9a",
        "executionInfo": {
          "status": "ok",
          "timestamp": 1526807324837,
          "user_tz": -330,
          "elapsed": 1195,
          "user": {
            "displayName": "Anirudh Ramanan",
            "photoUrl": "//lh5.googleusercontent.com/-kMZhKh_0Vb0/AAAAAAAAAAI/AAAAAAAAADA/FyyNUl3dTFs/s50-c-k-no/photo.jpg",
            "userId": "107972823913344955047"
          }
        }
      },
      "cell_type": "code",
      "source": [
        "def conv_net(x, keep_prob):\n",
        "    \"\"\"\n",
        "    Create a convolutional neural network model\n",
        "    : x: Placeholder tensor that holds image data.\n",
        "    : keep_prob: Placeholder tensor that hold dropout keep probability.\n",
        "    : return: Tensor that represents logits\n",
        "    \"\"\"\n",
        "    # TODO: Apply 1, 2, or 3 Convolution and Max Pool layers\n",
        "    #    Play around with different number of outputs, kernel size and stride\n",
        "    # Function Definition from Above:\n",
        "    conv = conv2d_maxpool(x, conv_num_outputs=32, conv_ksize=[5,5], conv_strides=[1,1], \n",
        "                          pool_ksize=[2,2], pool_strides=[2,2])\n",
        "    conv = conv2d_maxpool(conv, conv_num_outputs=64, conv_ksize=[5,5], conv_strides=[1,1], \n",
        "                          pool_ksize=[2,2], pool_strides=[2,2])\n",
        "    conv = conv2d_maxpool(conv, conv_num_outputs=128, conv_ksize=[5,5], conv_strides=[1,1], \n",
        "                          pool_ksize=[2,2], pool_strides=[2,2])\n",
        "    \n",
        "    \n",
        "\n",
        "    # TODO: Apply a Flatten Layer\n",
        "    # Function Definition from Above:\n",
        "    #   flatten(x_tensor)\n",
        "    flattened_conv = flatten(conv)\n",
        "\n",
        "    # TODO: Apply 1, 2, or 3 Fully Connected Layers\n",
        "    #    Play around with different number of outputs\n",
        "    # Function Definition from Above:\n",
        "    #   fully_conn(x_tensor, num_outputs)\n",
        "    \n",
        "    full_conn = fully_conn(flattened_conv, 480)\n",
        "    full_conn = fully_conn(full_conn, 240)\n",
        "    full_conn = fully_conn(full_conn, 120)\n",
        "    \n",
        "    # TODO: Apply an Output Layer\n",
        "    #    Set this to the number of classes\n",
        "    # Function Definition from Above:\n",
        "    #   output(x_tensor, num_outputs)\n",
        "    fc = tf.nn.dropout(full_conn, keep_prob)\n",
        "    \n",
        "    # TODO: return output\n",
        "    return output(fc, 10)\n",
        "\n",
        "\n",
        "\"\"\"\n",
        "DON'T MODIFY ANYTHING IN THIS CELL THAT IS BELOW THIS LINE\n",
        "\"\"\"\n",
        "\n",
        "##############################\n",
        "## Build the Neural Network ##\n",
        "##############################\n",
        "\n",
        "# Remove previous weights, bias, inputs, etc..\n",
        "tf.reset_default_graph()\n",
        "\n",
        "# Inputs\n",
        "x = neural_net_image_input((32, 32, 3))\n",
        "y = neural_net_label_input(10)\n",
        "keep_prob = neural_net_keep_prob_input()\n",
        "\n",
        "# Model\n",
        "logits = conv_net(x, keep_prob)\n",
        "\n",
        "# Name logits Tensor, so that is can be loaded from disk after training\n",
        "logits = tf.identity(logits, name='logits')\n",
        "\n",
        "# Loss and Optimizer\n",
        "cost = tf.reduce_mean(tf.nn.softmax_cross_entropy_with_logits(logits=logits, labels=y))\n",
        "optimizer = tf.train.AdamOptimizer().minimize(cost)\n",
        "\n",
        "# Accuracy\n",
        "correct_pred = tf.equal(tf.argmax(logits, 1), tf.argmax(y, 1))\n",
        "accuracy = tf.reduce_mean(tf.cast(correct_pred, tf.float32), name='accuracy')\n",
        "\n",
        "tests.test_conv_net(conv_net)"
      ],
      "execution_count": 34,
      "outputs": [
        {
          "output_type": "stream",
          "text": [
            "[None, 4, 4, 128]\n",
            "2048\n",
            "[None, 4, 4, 128]\n",
            "2048\n",
            "Neural Network Built!\n"
          ],
          "name": "stdout"
        }
      ]
    },
    {
      "metadata": {
        "id": "uY3LfltqUprP",
        "colab_type": "text"
      },
      "cell_type": "markdown",
      "source": [
        "## Train the Neural Network\n",
        "### Single Optimization\n",
        "Implement the function `train_neural_network` to do a single optimization.  The optimization should use `optimizer` to optimize in `session` with a `feed_dict` of the following:\n",
        "* `x` for image input\n",
        "* `y` for labels\n",
        "* `keep_prob` for keep probability for dropout\n",
        "\n",
        "This function will be called for each batch, so `tf.global_variables_initializer()` has already been called.\n",
        "\n",
        "Note: Nothing needs to be returned. This function is only optimizing the neural network."
      ]
    },
    {
      "metadata": {
        "id": "4mcm9vwKUprQ",
        "colab_type": "code",
        "colab": {
          "autoexec": {
            "startup": false,
            "wait_interval": 0
          },
          "base_uri": "https://localhost:8080/",
          "height": 34
        },
        "outputId": "a596bff5-b6f7-4b97-a3bb-1819e3e361f2",
        "executionInfo": {
          "status": "ok",
          "timestamp": 1526806359293,
          "user_tz": -330,
          "elapsed": 928,
          "user": {
            "displayName": "Anirudh Ramanan",
            "photoUrl": "//lh5.googleusercontent.com/-kMZhKh_0Vb0/AAAAAAAAAAI/AAAAAAAAADA/FyyNUl3dTFs/s50-c-k-no/photo.jpg",
            "userId": "107972823913344955047"
          }
        }
      },
      "cell_type": "code",
      "source": [
        "def train_neural_network(session, optimizer, keep_probability, feature_batch, label_batch):\n",
        "    \"\"\"\n",
        "    Optimize the session on a batch of images and labels\n",
        "    : session: Current TensorFlow session\n",
        "    : optimizer: TensorFlow optimizer function\n",
        "    : keep_probability: keep probability\n",
        "    : feature_batch: Batch of Numpy image data\n",
        "    : label_batch: Batch of Numpy label data\n",
        "    \"\"\"\n",
        "    session.run(optimizer, feed_dict={x: feature_batch, y: label_batch, keep_prob: keep_probability})\n",
        "\n",
        "\n",
        "\"\"\"\n",
        "DON'T MODIFY ANYTHING IN THIS CELL THAT IS BELOW THIS LINE\n",
        "\"\"\"\n",
        "tests.test_train_nn(train_neural_network)"
      ],
      "execution_count": 31,
      "outputs": [
        {
          "output_type": "stream",
          "text": [
            "Tests Passed\n"
          ],
          "name": "stdout"
        }
      ]
    },
    {
      "metadata": {
        "id": "1SSLovJLUprV",
        "colab_type": "text"
      },
      "cell_type": "markdown",
      "source": [
        "### Show Stats\n",
        "Implement the function `print_stats` to print loss and validation accuracy.  Use the global variables `valid_features` and `valid_labels` to calculate validation accuracy.  Use a keep probability of `1.0` to calculate the loss and validation accuracy."
      ]
    },
    {
      "metadata": {
        "id": "nHuHGHk_UprV",
        "colab_type": "code",
        "colab": {
          "autoexec": {
            "startup": false,
            "wait_interval": 0
          }
        }
      },
      "cell_type": "code",
      "source": [
        "def print_stats(session, feature_batch, label_batch, cost, accuracy):\n",
        "    \"\"\"\n",
        "    Print information about loss and validation accuracy\n",
        "    : session: Current TensorFlow session\n",
        "    : feature_batch: Batch of Numpy image data\n",
        "    : label_batch: Batch of Numpy label data\n",
        "    : cost: TensorFlow cost function\n",
        "    : accuracy: TensorFlow accuracy function\n",
        "    \"\"\"\n",
        "    loss = sess.run(cost, feed_dict={x: feature_batch,\n",
        "                                     y: label_batch,\n",
        "                                     keep_prob: 1.})\n",
        "    valid_acc = sess.run(accuracy, feed_dict={x: valid_features,\n",
        "                                              y: valid_labels,\n",
        "                                              keep_prob: 1.})\n",
        "\n",
        "    print('Loss: {:>10.4f} Validation Accuracy: {:.6f}'.format(loss, valid_acc))"
      ],
      "execution_count": 0,
      "outputs": []
    },
    {
      "metadata": {
        "id": "MOtxktloUprX",
        "colab_type": "text"
      },
      "cell_type": "markdown",
      "source": [
        "### Hyperparameters\n",
        "Tune the following parameters:\n",
        "* Set `epochs` to the number of iterations until the network stops learning or start overfitting\n",
        "* Set `batch_size` to the highest number that your machine has memory for.  Most people set them to common sizes of memory:\n",
        " * 64\n",
        " * 128\n",
        " * 256\n",
        " * ...\n",
        "* Set `keep_probability` to the probability of keeping a node using dropout"
      ]
    },
    {
      "metadata": {
        "id": "WAh6LLcoUprY",
        "colab_type": "code",
        "colab": {
          "autoexec": {
            "startup": false,
            "wait_interval": 0
          }
        }
      },
      "cell_type": "code",
      "source": [
        "# TODO: Tune Parameters\n",
        "epochs = 80\n",
        "batch_size = 256\n",
        "keep_probability = 0.81"
      ],
      "execution_count": 0,
      "outputs": []
    },
    {
      "metadata": {
        "id": "KqPJq_YOUpra",
        "colab_type": "text"
      },
      "cell_type": "markdown",
      "source": [
        "### Train on a Single CIFAR-10 Batch\n",
        "Instead of training the neural network on all the CIFAR-10 batches of data, let's use a single batch. This should save time while you iterate on the model to get a better accuracy.  Once the final validation accuracy is 50% or greater, run the model on all the data in the next section."
      ]
    },
    {
      "metadata": {
        "id": "LieoT58hqK5p",
        "colab_type": "text"
      },
      "cell_type": "markdown",
      "source": [
        ""
      ]
    },
    {
      "metadata": {
        "id": "e8kIbHeWUpra",
        "colab_type": "code",
        "colab": {
          "autoexec": {
            "startup": false,
            "wait_interval": 0
          },
          "base_uri": "https://localhost:8080/",
          "height": 1394
        },
        "outputId": "0a2f485f-e15c-47ec-ed12-49dfcdbe86af",
        "executionInfo": {
          "status": "ok",
          "timestamp": 1526807650770,
          "user_tz": -330,
          "elapsed": 307387,
          "user": {
            "displayName": "Anirudh Ramanan",
            "photoUrl": "//lh5.googleusercontent.com/-kMZhKh_0Vb0/AAAAAAAAAAI/AAAAAAAAADA/FyyNUl3dTFs/s50-c-k-no/photo.jpg",
            "userId": "107972823913344955047"
          }
        }
      },
      "cell_type": "code",
      "source": [
        "\"\"\"\n",
        "DON'T MODIFY ANYTHING IN THIS CELL\n",
        "\"\"\"\n",
        "print('Checking the Training on a Single Batch...')\n",
        "with tf.Session() as sess:\n",
        "    # Initializing the variables\n",
        "    sess.run(tf.global_variables_initializer())\n",
        "    \n",
        "    # Training cycle\n",
        "    for epoch in range(epochs):\n",
        "        batch_i = 1\n",
        "        for batch_features, batch_labels in helper.load_preprocess_training_batch(batch_i, batch_size):\n",
        "            train_neural_network(sess, optimizer, keep_probability, batch_features, batch_labels)\n",
        "        print('Epoch {:>2}, CIFAR-10 Batch {}:  '.format(epoch + 1, batch_i), end='')\n",
        "        print_stats(sess, batch_features, batch_labels, cost, accuracy)"
      ],
      "execution_count": 36,
      "outputs": [
        {
          "output_type": "stream",
          "text": [
            "Checking the Training on a Single Batch...\n",
            "Epoch  1, CIFAR-10 Batch 1:  Loss:     2.1043 Validation Accuracy: 0.297800\n",
            "Epoch  2, CIFAR-10 Batch 1:  Loss:     1.7934 Validation Accuracy: 0.401600\n",
            "Epoch  3, CIFAR-10 Batch 1:  Loss:     1.4999 Validation Accuracy: 0.435200\n",
            "Epoch  4, CIFAR-10 Batch 1:  Loss:     1.2338 Validation Accuracy: 0.471400\n",
            "Epoch  5, CIFAR-10 Batch 1:  Loss:     1.1318 Validation Accuracy: 0.459000\n",
            "Epoch  6, CIFAR-10 Batch 1:  Loss:     0.8113 Validation Accuracy: 0.491000\n",
            "Epoch  7, CIFAR-10 Batch 1:  Loss:     0.6086 Validation Accuracy: 0.501200\n",
            "Epoch  8, CIFAR-10 Batch 1:  Loss:     0.4485 Validation Accuracy: 0.547200\n",
            "Epoch  9, CIFAR-10 Batch 1:  Loss:     0.3433 Validation Accuracy: 0.538400\n",
            "Epoch 10, CIFAR-10 Batch 1:  Loss:     0.2348 Validation Accuracy: 0.555600\n",
            "Epoch 11, CIFAR-10 Batch 1:  Loss:     0.2502 Validation Accuracy: 0.509800\n",
            "Epoch 12, CIFAR-10 Batch 1:  Loss:     0.1916 Validation Accuracy: 0.536200\n",
            "Epoch 13, CIFAR-10 Batch 1:  Loss:     0.1319 Validation Accuracy: 0.525400\n",
            "Epoch 14, CIFAR-10 Batch 1:  Loss:     0.1010 Validation Accuracy: 0.548800\n",
            "Epoch 15, CIFAR-10 Batch 1:  Loss:     0.0946 Validation Accuracy: 0.547800\n",
            "Epoch 16, CIFAR-10 Batch 1:  Loss:     0.0321 Validation Accuracy: 0.536400\n",
            "Epoch 17, CIFAR-10 Batch 1:  Loss:     0.0268 Validation Accuracy: 0.568000\n",
            "Epoch 18, CIFAR-10 Batch 1:  Loss:     0.0312 Validation Accuracy: 0.566200\n",
            "Epoch 19, CIFAR-10 Batch 1:  Loss:     0.0443 Validation Accuracy: 0.518400\n",
            "Epoch 20, CIFAR-10 Batch 1:  Loss:     0.0336 Validation Accuracy: 0.529200\n",
            "Epoch 21, CIFAR-10 Batch 1:  Loss:     0.0448 Validation Accuracy: 0.527400\n",
            "Epoch 22, CIFAR-10 Batch 1:  Loss:     0.0177 Validation Accuracy: 0.556600\n",
            "Epoch 23, CIFAR-10 Batch 1:  Loss:     0.0072 Validation Accuracy: 0.573200\n",
            "Epoch 24, CIFAR-10 Batch 1:  Loss:     0.0057 Validation Accuracy: 0.562200\n",
            "Epoch 25, CIFAR-10 Batch 1:  Loss:     0.0033 Validation Accuracy: 0.559400\n",
            "Epoch 26, CIFAR-10 Batch 1:  Loss:     0.0120 Validation Accuracy: 0.538400\n",
            "Epoch 27, CIFAR-10 Batch 1:  Loss:     0.0050 Validation Accuracy: 0.543000\n",
            "Epoch 28, CIFAR-10 Batch 1:  Loss:     0.0042 Validation Accuracy: 0.564800\n",
            "Epoch 29, CIFAR-10 Batch 1:  Loss:     0.0021 Validation Accuracy: 0.557200\n",
            "Epoch 30, CIFAR-10 Batch 1:  Loss:     0.0012 Validation Accuracy: 0.567400\n",
            "Epoch 31, CIFAR-10 Batch 1:  Loss:     0.0005 Validation Accuracy: 0.539200\n",
            "Epoch 32, CIFAR-10 Batch 1:  Loss:     0.0003 Validation Accuracy: 0.564200\n",
            "Epoch 33, CIFAR-10 Batch 1:  Loss:     0.0030 Validation Accuracy: 0.544800\n",
            "Epoch 34, CIFAR-10 Batch 1:  Loss:     0.0003 Validation Accuracy: 0.571000\n",
            "Epoch 35, CIFAR-10 Batch 1:  Loss:     0.0003 Validation Accuracy: 0.591400\n",
            "Epoch 36, CIFAR-10 Batch 1:  "
          ],
          "name": "stdout"
        },
        {
          "output_type": "stream",
          "text": [
            "Loss:     0.0004 Validation Accuracy: 0.586600\n",
            "Epoch 37, CIFAR-10 Batch 1:  Loss:     0.0001 Validation Accuracy: 0.584000\n",
            "Epoch 38, CIFAR-10 Batch 1:  Loss:     0.0003 Validation Accuracy: 0.577200\n",
            "Epoch 39, CIFAR-10 Batch 1:  Loss:     0.0001 Validation Accuracy: 0.570200\n",
            "Epoch 40, CIFAR-10 Batch 1:  Loss:     0.0000 Validation Accuracy: 0.561600\n",
            "Epoch 41, CIFAR-10 Batch 1:  Loss:     0.0001 Validation Accuracy: 0.577600\n",
            "Epoch 42, CIFAR-10 Batch 1:  Loss:     0.0002 Validation Accuracy: 0.565000\n",
            "Epoch 43, CIFAR-10 Batch 1:  Loss:     0.0006 Validation Accuracy: 0.571200\n",
            "Epoch 44, CIFAR-10 Batch 1:  Loss:     0.0002 Validation Accuracy: 0.550000\n",
            "Epoch 45, CIFAR-10 Batch 1:  Loss:     0.0003 Validation Accuracy: 0.575400\n",
            "Epoch 46, CIFAR-10 Batch 1:  Loss:     0.0006 Validation Accuracy: 0.561000\n",
            "Epoch 47, CIFAR-10 Batch 1:  Loss:     0.0001 Validation Accuracy: 0.566600\n",
            "Epoch 48, CIFAR-10 Batch 1:  Loss:     0.0001 Validation Accuracy: 0.576400\n",
            "Epoch 49, CIFAR-10 Batch 1:  Loss:     0.0001 Validation Accuracy: 0.581200\n",
            "Epoch 50, CIFAR-10 Batch 1:  Loss:     0.0002 Validation Accuracy: 0.566600\n",
            "Epoch 51, CIFAR-10 Batch 1:  Loss:     0.0003 Validation Accuracy: 0.576800\n",
            "Epoch 52, CIFAR-10 Batch 1:  Loss:     0.0002 Validation Accuracy: 0.570600\n",
            "Epoch 53, CIFAR-10 Batch 1:  Loss:     0.0003 Validation Accuracy: 0.568400\n",
            "Epoch 54, CIFAR-10 Batch 1:  Loss:     0.0005 Validation Accuracy: 0.575600\n",
            "Epoch 55, CIFAR-10 Batch 1:  Loss:     0.0005 Validation Accuracy: 0.588000\n",
            "Epoch 56, CIFAR-10 Batch 1:  Loss:     0.0001 Validation Accuracy: 0.572200\n",
            "Epoch 57, CIFAR-10 Batch 1:  Loss:     0.0005 Validation Accuracy: 0.569200\n",
            "Epoch 58, CIFAR-10 Batch 1:  Loss:     0.0002 Validation Accuracy: 0.565800\n",
            "Epoch 59, CIFAR-10 Batch 1:  Loss:     0.0005 Validation Accuracy: 0.559600\n",
            "Epoch 60, CIFAR-10 Batch 1:  Loss:     0.0015 Validation Accuracy: 0.546800\n",
            "Epoch 61, CIFAR-10 Batch 1:  Loss:     0.0010 Validation Accuracy: 0.565000\n",
            "Epoch 62, CIFAR-10 Batch 1:  Loss:     0.0008 Validation Accuracy: 0.559400\n",
            "Epoch 63, CIFAR-10 Batch 1:  Loss:     0.0017 Validation Accuracy: 0.554400\n",
            "Epoch 64, CIFAR-10 Batch 1:  Loss:     0.0018 Validation Accuracy: 0.574200\n",
            "Epoch 65, CIFAR-10 Batch 1:  Loss:     0.0004 Validation Accuracy: 0.582200\n",
            "Epoch 66, CIFAR-10 Batch 1:  Loss:     0.0001 Validation Accuracy: 0.579800\n",
            "Epoch 67, CIFAR-10 Batch 1:  Loss:     0.0001 Validation Accuracy: 0.557800\n",
            "Epoch 68, CIFAR-10 Batch 1:  Loss:     0.0002 Validation Accuracy: 0.570200\n",
            "Epoch 69, CIFAR-10 Batch 1:  Loss:     0.0005 Validation Accuracy: 0.564400\n",
            "Epoch 70, CIFAR-10 Batch 1:  Loss:     0.0010 Validation Accuracy: 0.561600\n",
            "Epoch 71, CIFAR-10 Batch 1:  Loss:     0.0002 Validation Accuracy: 0.553400\n"
          ],
          "name": "stdout"
        },
        {
          "output_type": "stream",
          "text": [
            "Epoch 72, CIFAR-10 Batch 1:  Loss:     0.0003 Validation Accuracy: 0.573600\n",
            "Epoch 73, CIFAR-10 Batch 1:  Loss:     0.0001 Validation Accuracy: 0.575800\n",
            "Epoch 74, CIFAR-10 Batch 1:  Loss:     0.0004 Validation Accuracy: 0.576200\n",
            "Epoch 75, CIFAR-10 Batch 1:  Loss:     0.0000 Validation Accuracy: 0.563800\n",
            "Epoch 76, CIFAR-10 Batch 1:  Loss:     0.0007 Validation Accuracy: 0.569200\n",
            "Epoch 77, CIFAR-10 Batch 1:  Loss:     0.0000 Validation Accuracy: 0.572000\n",
            "Epoch 78, CIFAR-10 Batch 1:  Loss:     0.0001 Validation Accuracy: 0.577400\n",
            "Epoch 79, CIFAR-10 Batch 1:  Loss:     0.0016 Validation Accuracy: 0.556400\n",
            "Epoch 80, CIFAR-10 Batch 1:  Loss:     0.0017 Validation Accuracy: 0.581000\n"
          ],
          "name": "stdout"
        }
      ]
    },
    {
      "metadata": {
        "id": "DZDKrXIcUprd",
        "colab_type": "text"
      },
      "cell_type": "markdown",
      "source": [
        "### Fully Train the Model\n",
        "Now that you got a good accuracy with a single CIFAR-10 batch, try it with all five batches."
      ]
    },
    {
      "metadata": {
        "id": "OkAho0knUpre",
        "colab_type": "code",
        "colab": {
          "autoexec": {
            "startup": false,
            "wait_interval": 0
          },
          "base_uri": "https://localhost:8080/",
          "height": 6834
        },
        "outputId": "3f54f4de-e7b1-4c8f-bba0-6b8e551dbc89",
        "executionInfo": {
          "status": "ok",
          "timestamp": 1526810346003,
          "user_tz": -330,
          "elapsed": 2677573,
          "user": {
            "displayName": "Anirudh Ramanan",
            "photoUrl": "//lh5.googleusercontent.com/-kMZhKh_0Vb0/AAAAAAAAAAI/AAAAAAAAADA/FyyNUl3dTFs/s50-c-k-no/photo.jpg",
            "userId": "107972823913344955047"
          }
        }
      },
      "cell_type": "code",
      "source": [
        "\"\"\"\n",
        "DON'T MODIFY ANYTHING IN THIS CELL\n",
        "\"\"\"\n",
        "save_model_path = './image_classification'\n",
        "\n",
        "print('Training...')\n",
        "with tf.Session() as sess:\n",
        "    # Initializing the variables\n",
        "    sess.run(tf.global_variables_initializer())\n",
        "    \n",
        "    # Training cycle\n",
        "    for epoch in range(epochs):\n",
        "        # Loop over all batches\n",
        "        n_batches = 5\n",
        "        for batch_i in range(1, n_batches + 1):\n",
        "            for batch_features, batch_labels in helper.load_preprocess_training_batch(batch_i, batch_size):\n",
        "                train_neural_network(sess, optimizer, keep_probability, batch_features, batch_labels)\n",
        "            print('Epoch {:>2}, CIFAR-10 Batch {}:  '.format(epoch + 1, batch_i), end='')\n",
        "            print_stats(sess, batch_features, batch_labels, cost, accuracy)\n",
        "            \n",
        "    # Save Model\n",
        "    saver = tf.train.Saver()\n",
        "    save_path = saver.save(sess, save_model_path)"
      ],
      "execution_count": 37,
      "outputs": [
        {
          "output_type": "stream",
          "text": [
            "Training...\n",
            "Epoch  1, CIFAR-10 Batch 1:  Loss:     2.1768 Validation Accuracy: 0.296800\n",
            "Epoch  1, CIFAR-10 Batch 2:  Loss:     1.7012 Validation Accuracy: 0.378800\n",
            "Epoch  1, CIFAR-10 Batch 3:  Loss:     1.3914 Validation Accuracy: 0.401800\n",
            "Epoch  1, CIFAR-10 Batch 4:  Loss:     1.4130 Validation Accuracy: 0.470000\n",
            "Epoch  1, CIFAR-10 Batch 5:  Loss:     1.3804 Validation Accuracy: 0.481000\n",
            "Epoch  2, CIFAR-10 Batch 1:  Loss:     1.5034 Validation Accuracy: 0.501000\n",
            "Epoch  2, CIFAR-10 Batch 2:  Loss:     1.1340 Validation Accuracy: 0.492800\n",
            "Epoch  2, CIFAR-10 Batch 3:  Loss:     0.9052 Validation Accuracy: 0.516400\n",
            "Epoch  2, CIFAR-10 Batch 4:  Loss:     1.0115 Validation Accuracy: 0.532800\n",
            "Epoch  2, CIFAR-10 Batch 5:  Loss:     0.9479 Validation Accuracy: 0.573400\n",
            "Epoch  3, CIFAR-10 Batch 1:  Loss:     0.9982 Validation Accuracy: 0.552800\n",
            "Epoch  3, CIFAR-10 Batch 2:  Loss:     0.6748 Validation Accuracy: 0.604600\n",
            "Epoch  3, CIFAR-10 Batch 3:  Loss:     0.6324 Validation Accuracy: 0.545800\n",
            "Epoch  3, CIFAR-10 Batch 4:  Loss:     0.6913 Validation Accuracy: 0.598400\n",
            "Epoch  3, CIFAR-10 Batch 5:  Loss:     0.6261 Validation Accuracy: 0.630800\n",
            "Epoch  4, CIFAR-10 Batch 1:  Loss:     0.6781 Validation Accuracy: 0.598600\n",
            "Epoch  4, CIFAR-10 Batch 2:  Loss:     0.4372 Validation Accuracy: 0.620400\n",
            "Epoch  4, CIFAR-10 Batch 3:  Loss:     0.4568 Validation Accuracy: 0.580000\n",
            "Epoch  4, CIFAR-10 Batch 4:  Loss:     0.4568 Validation Accuracy: 0.622800\n",
            "Epoch  4, CIFAR-10 Batch 5:  Loss:     0.3973 Validation Accuracy: 0.643000\n",
            "Epoch  5, CIFAR-10 Batch 1:  Loss:     0.4763 Validation Accuracy: 0.644600\n",
            "Epoch  5, CIFAR-10 Batch 2:  Loss:     0.2471 Validation Accuracy: 0.642200\n",
            "Epoch  5, CIFAR-10 Batch 3:  Loss:     0.2554 Validation Accuracy: 0.640200\n",
            "Epoch  5, CIFAR-10 Batch 4:  Loss:     0.3294 Validation Accuracy: 0.599800\n",
            "Epoch  5, CIFAR-10 Batch 5:  Loss:     0.2471 Validation Accuracy: 0.679400\n",
            "Epoch  6, CIFAR-10 Batch 1:  Loss:     0.2304 Validation Accuracy: 0.660600\n",
            "Epoch  6, CIFAR-10 Batch 2:  Loss:     0.1612 Validation Accuracy: 0.641000\n",
            "Epoch  6, CIFAR-10 Batch 3:  Loss:     0.1745 Validation Accuracy: 0.655400\n",
            "Epoch  6, CIFAR-10 Batch 4:  Loss:     0.2198 Validation Accuracy: 0.668600\n",
            "Epoch  6, CIFAR-10 Batch 5:  Loss:     0.1425 Validation Accuracy: 0.654000\n",
            "Epoch  7, CIFAR-10 Batch 1:  Loss:     0.1610 Validation Accuracy: 0.643000\n",
            "Epoch  7, CIFAR-10 Batch 2:  Loss:     0.1788 Validation Accuracy: 0.666200\n",
            "Epoch  7, CIFAR-10 Batch 3:  Loss:     0.1204 Validation Accuracy: 0.689200\n",
            "Epoch  7, CIFAR-10 Batch 4:  Loss:     0.1157 Validation Accuracy: 0.674000\n",
            "Epoch  7, CIFAR-10 Batch 5:  Loss:     0.0933 Validation Accuracy: 0.645400\n",
            "Epoch  8, CIFAR-10 Batch 1:  "
          ],
          "name": "stdout"
        },
        {
          "output_type": "stream",
          "text": [
            "Loss:     0.1233 Validation Accuracy: 0.646800\n",
            "Epoch  8, CIFAR-10 Batch 2:  Loss:     0.0845 Validation Accuracy: 0.660200\n",
            "Epoch  8, CIFAR-10 Batch 3:  Loss:     0.0822 Validation Accuracy: 0.691800\n",
            "Epoch  8, CIFAR-10 Batch 4:  Loss:     0.1124 Validation Accuracy: 0.662800\n",
            "Epoch  8, CIFAR-10 Batch 5:  Loss:     0.0508 Validation Accuracy: 0.648000\n",
            "Epoch  9, CIFAR-10 Batch 1:  Loss:     0.1451 Validation Accuracy: 0.655400\n",
            "Epoch  9, CIFAR-10 Batch 2:  Loss:     0.0592 Validation Accuracy: 0.660800\n",
            "Epoch  9, CIFAR-10 Batch 3:  Loss:     0.0452 Validation Accuracy: 0.680600\n",
            "Epoch  9, CIFAR-10 Batch 4:  Loss:     0.1020 Validation Accuracy: 0.643200\n",
            "Epoch  9, CIFAR-10 Batch 5:  Loss:     0.0456 Validation Accuracy: 0.686400\n",
            "Epoch 10, CIFAR-10 Batch 1:  Loss:     0.0762 Validation Accuracy: 0.662600\n",
            "Epoch 10, CIFAR-10 Batch 2:  Loss:     0.0532 Validation Accuracy: 0.665400\n",
            "Epoch 10, CIFAR-10 Batch 3:  Loss:     0.0472 Validation Accuracy: 0.658000\n",
            "Epoch 10, CIFAR-10 Batch 4:  Loss:     0.0595 Validation Accuracy: 0.670800\n",
            "Epoch 10, CIFAR-10 Batch 5:  Loss:     0.0337 Validation Accuracy: 0.672400\n",
            "Epoch 11, CIFAR-10 Batch 1:  Loss:     0.0398 Validation Accuracy: 0.686400\n",
            "Epoch 11, CIFAR-10 Batch 2:  Loss:     0.0367 Validation Accuracy: 0.676400\n",
            "Epoch 11, CIFAR-10 Batch 3:  Loss:     0.0442 Validation Accuracy: 0.655200\n",
            "Epoch 11, CIFAR-10 Batch 4:  Loss:     0.0395 Validation Accuracy: 0.681400\n",
            "Epoch 11, CIFAR-10 Batch 5:  Loss:     0.0232 Validation Accuracy: 0.671800\n",
            "Epoch 12, CIFAR-10 Batch 1:  Loss:     0.0328 Validation Accuracy: 0.669800\n",
            "Epoch 12, CIFAR-10 Batch 2:  Loss:     0.0248 Validation Accuracy: 0.668200\n",
            "Epoch 12, CIFAR-10 Batch 3:  Loss:     0.0567 Validation Accuracy: 0.631600\n",
            "Epoch 12, CIFAR-10 Batch 4:  Loss:     0.0217 Validation Accuracy: 0.692400\n",
            "Epoch 12, CIFAR-10 Batch 5:  Loss:     0.0229 Validation Accuracy: 0.656600\n",
            "Epoch 13, CIFAR-10 Batch 1:  Loss:     0.0257 Validation Accuracy: 0.685800\n",
            "Epoch 13, CIFAR-10 Batch 2:  Loss:     0.0206 Validation Accuracy: 0.664000\n",
            "Epoch 13, CIFAR-10 Batch 3:  Loss:     0.0164 Validation Accuracy: 0.692200\n",
            "Epoch 13, CIFAR-10 Batch 4:  Loss:     0.0345 Validation Accuracy: 0.664400\n",
            "Epoch 13, CIFAR-10 Batch 5:  Loss:     0.0143 Validation Accuracy: 0.675400\n",
            "Epoch 14, CIFAR-10 Batch 1:  Loss:     0.0111 Validation Accuracy: 0.665800\n",
            "Epoch 14, CIFAR-10 Batch 2:  Loss:     0.0197 Validation Accuracy: 0.647200\n",
            "Epoch 14, CIFAR-10 Batch 3:  Loss:     0.0124 Validation Accuracy: 0.665200\n",
            "Epoch 14, CIFAR-10 Batch 4:  Loss:     0.0100 Validation Accuracy: 0.661400\n",
            "Epoch 14, CIFAR-10 Batch 5:  Loss:     0.0106 Validation Accuracy: 0.693200\n",
            "Epoch 15, CIFAR-10 Batch 1:  Loss:     0.0105 Validation Accuracy: 0.660600\n"
          ],
          "name": "stdout"
        },
        {
          "output_type": "stream",
          "text": [
            "Epoch 15, CIFAR-10 Batch 2:  Loss:     0.0078 Validation Accuracy: 0.651200\n",
            "Epoch 15, CIFAR-10 Batch 3:  Loss:     0.0065 Validation Accuracy: 0.677600\n",
            "Epoch 15, CIFAR-10 Batch 4:  Loss:     0.0183 Validation Accuracy: 0.672000\n",
            "Epoch 15, CIFAR-10 Batch 5:  Loss:     0.0049 Validation Accuracy: 0.687600\n",
            "Epoch 16, CIFAR-10 Batch 1:  Loss:     0.0057 Validation Accuracy: 0.648200\n",
            "Epoch 16, CIFAR-10 Batch 2:  Loss:     0.0124 Validation Accuracy: 0.673000\n",
            "Epoch 16, CIFAR-10 Batch 3:  Loss:     0.0035 Validation Accuracy: 0.667000\n",
            "Epoch 16, CIFAR-10 Batch 4:  Loss:     0.0044 Validation Accuracy: 0.681400\n",
            "Epoch 16, CIFAR-10 Batch 5:  Loss:     0.0036 Validation Accuracy: 0.687200\n",
            "Epoch 17, CIFAR-10 Batch 1:  Loss:     0.0025 Validation Accuracy: 0.654200\n",
            "Epoch 17, CIFAR-10 Batch 2:  Loss:     0.0024 Validation Accuracy: 0.670800\n",
            "Epoch 17, CIFAR-10 Batch 3:  Loss:     0.0058 Validation Accuracy: 0.675800\n",
            "Epoch 17, CIFAR-10 Batch 4:  Loss:     0.0076 Validation Accuracy: 0.671400\n",
            "Epoch 17, CIFAR-10 Batch 5:  Loss:     0.0012 Validation Accuracy: 0.682200\n",
            "Epoch 18, CIFAR-10 Batch 1:  Loss:     0.0039 Validation Accuracy: 0.680400\n",
            "Epoch 18, CIFAR-10 Batch 2:  Loss:     0.0039 Validation Accuracy: 0.666000\n",
            "Epoch 18, CIFAR-10 Batch 3:  Loss:     0.0088 Validation Accuracy: 0.676800\n",
            "Epoch 18, CIFAR-10 Batch 4:  Loss:     0.0017 Validation Accuracy: 0.673000\n",
            "Epoch 18, CIFAR-10 Batch 5:  Loss:     0.0019 Validation Accuracy: 0.681600\n",
            "Epoch 19, CIFAR-10 Batch 1:  Loss:     0.0015 Validation Accuracy: 0.689800\n",
            "Epoch 19, CIFAR-10 Batch 2:  Loss:     0.0055 Validation Accuracy: 0.681800\n",
            "Epoch 19, CIFAR-10 Batch 3:  Loss:     0.0016 Validation Accuracy: 0.681000\n",
            "Epoch 19, CIFAR-10 Batch 4:  Loss:     0.0016 Validation Accuracy: 0.663800\n",
            "Epoch 19, CIFAR-10 Batch 5:  Loss:     0.0010 Validation Accuracy: 0.688000\n",
            "Epoch 20, CIFAR-10 Batch 1:  Loss:     0.0013 Validation Accuracy: 0.693400\n",
            "Epoch 20, CIFAR-10 Batch 2:  Loss:     0.0026 Validation Accuracy: 0.674800\n",
            "Epoch 20, CIFAR-10 Batch 3:  Loss:     0.0013 Validation Accuracy: 0.686800\n",
            "Epoch 20, CIFAR-10 Batch 4:  Loss:     0.0009 Validation Accuracy: 0.667400\n",
            "Epoch 20, CIFAR-10 Batch 5:  Loss:     0.0025 Validation Accuracy: 0.684400\n",
            "Epoch 21, CIFAR-10 Batch 1:  Loss:     0.0013 Validation Accuracy: 0.690000\n",
            "Epoch 21, CIFAR-10 Batch 2:  Loss:     0.0011 Validation Accuracy: 0.675400\n",
            "Epoch 21, CIFAR-10 Batch 3:  Loss:     0.0021 Validation Accuracy: 0.683400\n",
            "Epoch 21, CIFAR-10 Batch 4:  Loss:     0.0009 Validation Accuracy: 0.672000\n",
            "Epoch 21, CIFAR-10 Batch 5:  Loss:     0.0010 Validation Accuracy: 0.655000\n",
            "Epoch 22, CIFAR-10 Batch 1:  Loss:     0.0011 Validation Accuracy: 0.684000\n",
            "Epoch 22, CIFAR-10 Batch 2:  Loss:     0.0026 Validation Accuracy: 0.674000\n"
          ],
          "name": "stdout"
        },
        {
          "output_type": "stream",
          "text": [
            "Epoch 22, CIFAR-10 Batch 3:  Loss:     0.0016 Validation Accuracy: 0.690800\n",
            "Epoch 22, CIFAR-10 Batch 4:  Loss:     0.0003 Validation Accuracy: 0.686200\n",
            "Epoch 22, CIFAR-10 Batch 5:  Loss:     0.0017 Validation Accuracy: 0.692600\n",
            "Epoch 23, CIFAR-10 Batch 1:  Loss:     0.0025 Validation Accuracy: 0.675200\n",
            "Epoch 23, CIFAR-10 Batch 2:  Loss:     0.0019 Validation Accuracy: 0.677000\n",
            "Epoch 23, CIFAR-10 Batch 3:  Loss:     0.0017 Validation Accuracy: 0.694600\n",
            "Epoch 23, CIFAR-10 Batch 4:  Loss:     0.0007 Validation Accuracy: 0.683800\n",
            "Epoch 23, CIFAR-10 Batch 5:  Loss:     0.0024 Validation Accuracy: 0.683800\n",
            "Epoch 24, CIFAR-10 Batch 1:  Loss:     0.0005 Validation Accuracy: 0.688600\n",
            "Epoch 24, CIFAR-10 Batch 2:  Loss:     0.0018 Validation Accuracy: 0.687200\n",
            "Epoch 24, CIFAR-10 Batch 3:  Loss:     0.0007 Validation Accuracy: 0.681800\n",
            "Epoch 24, CIFAR-10 Batch 4:  Loss:     0.0012 Validation Accuracy: 0.683600\n",
            "Epoch 24, CIFAR-10 Batch 5:  Loss:     0.0010 Validation Accuracy: 0.685000\n",
            "Epoch 25, CIFAR-10 Batch 1:  Loss:     0.0011 Validation Accuracy: 0.680600\n",
            "Epoch 25, CIFAR-10 Batch 2:  Loss:     0.0017 Validation Accuracy: 0.680800\n",
            "Epoch 25, CIFAR-10 Batch 3:  Loss:     0.0008 Validation Accuracy: 0.691200\n",
            "Epoch 25, CIFAR-10 Batch 4:  Loss:     0.0009 Validation Accuracy: 0.690000\n",
            "Epoch 25, CIFAR-10 Batch 5:  Loss:     0.0011 Validation Accuracy: 0.685600\n",
            "Epoch 26, CIFAR-10 Batch 1:  Loss:     0.0005 Validation Accuracy: 0.692200\n",
            "Epoch 26, CIFAR-10 Batch 2:  Loss:     0.0022 Validation Accuracy: 0.686200\n",
            "Epoch 26, CIFAR-10 Batch 3:  Loss:     0.0005 Validation Accuracy: 0.687200\n",
            "Epoch 26, CIFAR-10 Batch 4:  Loss:     0.0003 Validation Accuracy: 0.697000\n",
            "Epoch 26, CIFAR-10 Batch 5:  Loss:     0.0009 Validation Accuracy: 0.686800\n",
            "Epoch 27, CIFAR-10 Batch 1:  Loss:     0.0002 Validation Accuracy: 0.693400\n",
            "Epoch 27, CIFAR-10 Batch 2:  Loss:     0.0020 Validation Accuracy: 0.685000\n",
            "Epoch 27, CIFAR-10 Batch 3:  Loss:     0.0011 Validation Accuracy: 0.694400\n",
            "Epoch 27, CIFAR-10 Batch 4:  Loss:     0.0010 Validation Accuracy: 0.689800\n",
            "Epoch 27, CIFAR-10 Batch 5:  Loss:     0.0009 Validation Accuracy: 0.693200\n",
            "Epoch 28, CIFAR-10 Batch 1:  Loss:     0.0009 Validation Accuracy: 0.695600\n",
            "Epoch 28, CIFAR-10 Batch 2:  Loss:     0.0014 Validation Accuracy: 0.696400\n",
            "Epoch 28, CIFAR-10 Batch 3:  Loss:     0.0009 Validation Accuracy: 0.699400\n",
            "Epoch 28, CIFAR-10 Batch 4:  Loss:     0.0001 Validation Accuracy: 0.683800\n",
            "Epoch 28, CIFAR-10 Batch 5:  Loss:     0.0001 Validation Accuracy: 0.687200\n",
            "Epoch 29, CIFAR-10 Batch 1:  Loss:     0.0016 Validation Accuracy: 0.686000\n",
            "Epoch 29, CIFAR-10 Batch 2:  Loss:     0.0007 Validation Accuracy: 0.695600\n",
            "Epoch 29, CIFAR-10 Batch 3:  Loss:     0.0003 Validation Accuracy: 0.695000\n"
          ],
          "name": "stdout"
        },
        {
          "output_type": "stream",
          "text": [
            "Epoch 29, CIFAR-10 Batch 4:  Loss:     0.0013 Validation Accuracy: 0.675800\n",
            "Epoch 29, CIFAR-10 Batch 5:  Loss:     0.0007 Validation Accuracy: 0.691200\n",
            "Epoch 30, CIFAR-10 Batch 1:  Loss:     0.0006 Validation Accuracy: 0.681000\n",
            "Epoch 30, CIFAR-10 Batch 2:  Loss:     0.0017 Validation Accuracy: 0.683000\n",
            "Epoch 30, CIFAR-10 Batch 3:  Loss:     0.0016 Validation Accuracy: 0.691400\n",
            "Epoch 30, CIFAR-10 Batch 4:  Loss:     0.0005 Validation Accuracy: 0.680400\n",
            "Epoch 30, CIFAR-10 Batch 5:  Loss:     0.0030 Validation Accuracy: 0.694400\n",
            "Epoch 31, CIFAR-10 Batch 1:  Loss:     0.0008 Validation Accuracy: 0.680600\n",
            "Epoch 31, CIFAR-10 Batch 2:  Loss:     0.0003 Validation Accuracy: 0.686600\n",
            "Epoch 31, CIFAR-10 Batch 3:  Loss:     0.0007 Validation Accuracy: 0.700600\n",
            "Epoch 31, CIFAR-10 Batch 4:  Loss:     0.0016 Validation Accuracy: 0.670800\n",
            "Epoch 31, CIFAR-10 Batch 5:  Loss:     0.0002 Validation Accuracy: 0.692200\n",
            "Epoch 32, CIFAR-10 Batch 1:  Loss:     0.0007 Validation Accuracy: 0.687800\n",
            "Epoch 32, CIFAR-10 Batch 2:  Loss:     0.0013 Validation Accuracy: 0.689800\n",
            "Epoch 32, CIFAR-10 Batch 3:  Loss:     0.0002 Validation Accuracy: 0.690200\n",
            "Epoch 32, CIFAR-10 Batch 4:  Loss:     0.0002 Validation Accuracy: 0.694800\n",
            "Epoch 32, CIFAR-10 Batch 5:  Loss:     0.0013 Validation Accuracy: 0.677400\n",
            "Epoch 33, CIFAR-10 Batch 1:  Loss:     0.0001 Validation Accuracy: 0.706400\n",
            "Epoch 33, CIFAR-10 Batch 2:  Loss:     0.0008 Validation Accuracy: 0.697200\n",
            "Epoch 33, CIFAR-10 Batch 3:  Loss:     0.0009 Validation Accuracy: 0.695800\n",
            "Epoch 33, CIFAR-10 Batch 4:  Loss:     0.0002 Validation Accuracy: 0.695800\n",
            "Epoch 33, CIFAR-10 Batch 5:  Loss:     0.0005 Validation Accuracy: 0.704000\n",
            "Epoch 34, CIFAR-10 Batch 1:  Loss:     0.0005 Validation Accuracy: 0.697800\n",
            "Epoch 34, CIFAR-10 Batch 2:  Loss:     0.0007 Validation Accuracy: 0.681800\n",
            "Epoch 34, CIFAR-10 Batch 3:  Loss:     0.0002 Validation Accuracy: 0.698400\n",
            "Epoch 34, CIFAR-10 Batch 4:  Loss:     0.0005 Validation Accuracy: 0.690800\n",
            "Epoch 34, CIFAR-10 Batch 5:  Loss:     0.0002 Validation Accuracy: 0.693200\n",
            "Epoch 35, CIFAR-10 Batch 1:  Loss:     0.0007 Validation Accuracy: 0.686400\n",
            "Epoch 35, CIFAR-10 Batch 2:  Loss:     0.0004 Validation Accuracy: 0.690800\n",
            "Epoch 35, CIFAR-10 Batch 3:  Loss:     0.0004 Validation Accuracy: 0.688400\n",
            "Epoch 35, CIFAR-10 Batch 4:  Loss:     0.0002 Validation Accuracy: 0.691600\n",
            "Epoch 35, CIFAR-10 Batch 5:  Loss:     0.0003 Validation Accuracy: 0.694800\n",
            "Epoch 36, CIFAR-10 Batch 1:  Loss:     0.0001 Validation Accuracy: 0.698400\n",
            "Epoch 36, CIFAR-10 Batch 2:  Loss:     0.0013 Validation Accuracy: 0.696000\n",
            "Epoch 36, CIFAR-10 Batch 3:  Loss:     0.0005 Validation Accuracy: 0.681400\n",
            "Epoch 36, CIFAR-10 Batch 4:  Loss:     0.0017 Validation Accuracy: 0.691000\n",
            "Epoch 36, CIFAR-10 Batch 5:  "
          ],
          "name": "stdout"
        },
        {
          "output_type": "stream",
          "text": [
            "Loss:     0.0009 Validation Accuracy: 0.690800\n",
            "Epoch 37, CIFAR-10 Batch 1:  Loss:     0.0002 Validation Accuracy: 0.704200\n",
            "Epoch 37, CIFAR-10 Batch 2:  Loss:     0.0005 Validation Accuracy: 0.691400\n",
            "Epoch 37, CIFAR-10 Batch 3:  Loss:     0.0005 Validation Accuracy: 0.692000\n",
            "Epoch 37, CIFAR-10 Batch 4:  Loss:     0.0002 Validation Accuracy: 0.693000\n",
            "Epoch 37, CIFAR-10 Batch 5:  Loss:     0.0003 Validation Accuracy: 0.696600\n",
            "Epoch 38, CIFAR-10 Batch 1:  Loss:     0.0002 Validation Accuracy: 0.697000\n",
            "Epoch 38, CIFAR-10 Batch 2:  Loss:     0.0005 Validation Accuracy: 0.695200\n",
            "Epoch 38, CIFAR-10 Batch 3:  Loss:     0.0002 Validation Accuracy: 0.697800\n",
            "Epoch 38, CIFAR-10 Batch 4:  Loss:     0.0002 Validation Accuracy: 0.699800\n",
            "Epoch 38, CIFAR-10 Batch 5:  Loss:     0.0000 Validation Accuracy: 0.685400\n",
            "Epoch 39, CIFAR-10 Batch 1:  Loss:     0.0005 Validation Accuracy: 0.696800\n",
            "Epoch 39, CIFAR-10 Batch 2:  Loss:     0.0009 Validation Accuracy: 0.681800\n",
            "Epoch 39, CIFAR-10 Batch 3:  Loss:     0.0002 Validation Accuracy: 0.690600\n",
            "Epoch 39, CIFAR-10 Batch 4:  Loss:     0.0006 Validation Accuracy: 0.690000\n",
            "Epoch 39, CIFAR-10 Batch 5:  Loss:     0.0001 Validation Accuracy: 0.695200\n",
            "Epoch 40, CIFAR-10 Batch 1:  Loss:     0.0004 Validation Accuracy: 0.699200\n",
            "Epoch 40, CIFAR-10 Batch 2:  Loss:     0.0000 Validation Accuracy: 0.694600\n",
            "Epoch 40, CIFAR-10 Batch 3:  Loss:     0.0079 Validation Accuracy: 0.675000\n",
            "Epoch 40, CIFAR-10 Batch 4:  Loss:     0.0004 Validation Accuracy: 0.691600\n",
            "Epoch 40, CIFAR-10 Batch 5:  Loss:     0.0001 Validation Accuracy: 0.695600\n",
            "Epoch 41, CIFAR-10 Batch 1:  Loss:     0.0004 Validation Accuracy: 0.695400\n",
            "Epoch 41, CIFAR-10 Batch 2:  Loss:     0.0002 Validation Accuracy: 0.697400\n",
            "Epoch 41, CIFAR-10 Batch 3:  Loss:     0.0010 Validation Accuracy: 0.690800\n",
            "Epoch 41, CIFAR-10 Batch 4:  Loss:     0.0018 Validation Accuracy: 0.693000\n",
            "Epoch 41, CIFAR-10 Batch 5:  Loss:     0.0003 Validation Accuracy: 0.693200\n",
            "Epoch 42, CIFAR-10 Batch 1:  Loss:     0.0001 Validation Accuracy: 0.699000\n",
            "Epoch 42, CIFAR-10 Batch 2:  Loss:     0.0007 Validation Accuracy: 0.692000\n",
            "Epoch 42, CIFAR-10 Batch 3:  Loss:     0.0001 Validation Accuracy: 0.683000\n",
            "Epoch 42, CIFAR-10 Batch 4:  Loss:     0.0014 Validation Accuracy: 0.701200\n",
            "Epoch 42, CIFAR-10 Batch 5:  Loss:     0.0000 Validation Accuracy: 0.704400\n",
            "Epoch 43, CIFAR-10 Batch 1:  Loss:     0.0003 Validation Accuracy: 0.694000\n",
            "Epoch 43, CIFAR-10 Batch 2:  Loss:     0.0000 Validation Accuracy: 0.699000\n",
            "Epoch 43, CIFAR-10 Batch 3:  Loss:     0.0002 Validation Accuracy: 0.693000\n",
            "Epoch 43, CIFAR-10 Batch 4:  Loss:     0.0002 Validation Accuracy: 0.692400\n",
            "Epoch 43, CIFAR-10 Batch 5:  Loss:     0.0003 Validation Accuracy: 0.697600\n"
          ],
          "name": "stdout"
        },
        {
          "output_type": "stream",
          "text": [
            "Epoch 44, CIFAR-10 Batch 1:  Loss:     0.0002 Validation Accuracy: 0.687000\n",
            "Epoch 44, CIFAR-10 Batch 2:  Loss:     0.0000 Validation Accuracy: 0.697400\n",
            "Epoch 44, CIFAR-10 Batch 3:  Loss:     0.0001 Validation Accuracy: 0.691000\n",
            "Epoch 44, CIFAR-10 Batch 4:  Loss:     0.0005 Validation Accuracy: 0.686200\n",
            "Epoch 44, CIFAR-10 Batch 5:  Loss:     0.0007 Validation Accuracy: 0.694600\n",
            "Epoch 45, CIFAR-10 Batch 1:  Loss:     0.0005 Validation Accuracy: 0.688000\n",
            "Epoch 45, CIFAR-10 Batch 2:  Loss:     0.0002 Validation Accuracy: 0.698600\n",
            "Epoch 45, CIFAR-10 Batch 3:  Loss:     0.0037 Validation Accuracy: 0.680200\n",
            "Epoch 45, CIFAR-10 Batch 4:  Loss:     0.0005 Validation Accuracy: 0.696800\n",
            "Epoch 45, CIFAR-10 Batch 5:  Loss:     0.0009 Validation Accuracy: 0.693000\n",
            "Epoch 46, CIFAR-10 Batch 1:  Loss:     0.0002 Validation Accuracy: 0.693800\n",
            "Epoch 46, CIFAR-10 Batch 2:  Loss:     0.0024 Validation Accuracy: 0.699800\n",
            "Epoch 46, CIFAR-10 Batch 3:  Loss:     0.0000 Validation Accuracy: 0.698600\n",
            "Epoch 46, CIFAR-10 Batch 4:  Loss:     0.0002 Validation Accuracy: 0.682600\n",
            "Epoch 46, CIFAR-10 Batch 5:  Loss:     0.0029 Validation Accuracy: 0.695800\n",
            "Epoch 47, CIFAR-10 Batch 1:  Loss:     0.0001 Validation Accuracy: 0.700600\n",
            "Epoch 47, CIFAR-10 Batch 2:  Loss:     0.0005 Validation Accuracy: 0.689600\n",
            "Epoch 47, CIFAR-10 Batch 3:  Loss:     0.0003 Validation Accuracy: 0.699800\n",
            "Epoch 47, CIFAR-10 Batch 4:  Loss:     0.0004 Validation Accuracy: 0.696600\n",
            "Epoch 47, CIFAR-10 Batch 5:  Loss:     0.0004 Validation Accuracy: 0.703400\n",
            "Epoch 48, CIFAR-10 Batch 1:  Loss:     0.0007 Validation Accuracy: 0.696600\n",
            "Epoch 48, CIFAR-10 Batch 2:  Loss:     0.0003 Validation Accuracy: 0.696800\n",
            "Epoch 48, CIFAR-10 Batch 3:  Loss:     0.0009 Validation Accuracy: 0.696600\n",
            "Epoch 48, CIFAR-10 Batch 4:  Loss:     0.0001 Validation Accuracy: 0.698000\n",
            "Epoch 48, CIFAR-10 Batch 5:  Loss:     0.0002 Validation Accuracy: 0.694000\n",
            "Epoch 49, CIFAR-10 Batch 1:  Loss:     0.0001 Validation Accuracy: 0.697000\n",
            "Epoch 49, CIFAR-10 Batch 2:  Loss:     0.0000 Validation Accuracy: 0.699600\n",
            "Epoch 49, CIFAR-10 Batch 3:  Loss:     0.0022 Validation Accuracy: 0.697600\n",
            "Epoch 49, CIFAR-10 Batch 4:  Loss:     0.0012 Validation Accuracy: 0.687600\n",
            "Epoch 49, CIFAR-10 Batch 5:  Loss:     0.0000 Validation Accuracy: 0.702200\n",
            "Epoch 50, CIFAR-10 Batch 1:  Loss:     0.0001 Validation Accuracy: 0.702800\n",
            "Epoch 50, CIFAR-10 Batch 2:  Loss:     0.0000 Validation Accuracy: 0.697200\n",
            "Epoch 50, CIFAR-10 Batch 3:  Loss:     0.0010 Validation Accuracy: 0.695400\n",
            "Epoch 50, CIFAR-10 Batch 4:  Loss:     0.0008 Validation Accuracy: 0.682000\n",
            "Epoch 50, CIFAR-10 Batch 5:  Loss:     0.0000 Validation Accuracy: 0.700200\n",
            "Epoch 51, CIFAR-10 Batch 1:  Loss:     0.0003 Validation Accuracy: 0.703800\n"
          ],
          "name": "stdout"
        },
        {
          "output_type": "stream",
          "text": [
            "Epoch 51, CIFAR-10 Batch 2:  Loss:     0.0001 Validation Accuracy: 0.697000\n",
            "Epoch 51, CIFAR-10 Batch 3:  Loss:     0.0001 Validation Accuracy: 0.696600\n",
            "Epoch 51, CIFAR-10 Batch 4:  Loss:     0.0005 Validation Accuracy: 0.694400\n",
            "Epoch 51, CIFAR-10 Batch 5:  Loss:     0.0029 Validation Accuracy: 0.682400\n",
            "Epoch 52, CIFAR-10 Batch 1:  Loss:     0.0003 Validation Accuracy: 0.702600\n",
            "Epoch 52, CIFAR-10 Batch 2:  Loss:     0.0002 Validation Accuracy: 0.693600\n",
            "Epoch 52, CIFAR-10 Batch 3:  Loss:     0.0005 Validation Accuracy: 0.699000\n",
            "Epoch 52, CIFAR-10 Batch 4:  Loss:     0.0010 Validation Accuracy: 0.697600\n",
            "Epoch 52, CIFAR-10 Batch 5:  Loss:     0.0000 Validation Accuracy: 0.700800\n",
            "Epoch 53, CIFAR-10 Batch 1:  Loss:     0.0000 Validation Accuracy: 0.701400\n",
            "Epoch 53, CIFAR-10 Batch 2:  Loss:     0.0013 Validation Accuracy: 0.681000\n",
            "Epoch 53, CIFAR-10 Batch 3:  Loss:     0.0002 Validation Accuracy: 0.694400\n",
            "Epoch 53, CIFAR-10 Batch 4:  Loss:     0.0005 Validation Accuracy: 0.683200\n",
            "Epoch 53, CIFAR-10 Batch 5:  Loss:     0.0001 Validation Accuracy: 0.701000\n",
            "Epoch 54, CIFAR-10 Batch 1:  Loss:     0.0002 Validation Accuracy: 0.706600\n",
            "Epoch 54, CIFAR-10 Batch 2:  Loss:     0.0000 Validation Accuracy: 0.699800\n",
            "Epoch 54, CIFAR-10 Batch 3:  Loss:     0.0002 Validation Accuracy: 0.701000\n",
            "Epoch 54, CIFAR-10 Batch 4:  Loss:     0.0000 Validation Accuracy: 0.702200\n",
            "Epoch 54, CIFAR-10 Batch 5:  Loss:     0.0001 Validation Accuracy: 0.709000\n",
            "Epoch 55, CIFAR-10 Batch 1:  Loss:     0.0003 Validation Accuracy: 0.699800\n",
            "Epoch 55, CIFAR-10 Batch 2:  Loss:     0.0028 Validation Accuracy: 0.691600\n",
            "Epoch 55, CIFAR-10 Batch 3:  Loss:     0.0000 Validation Accuracy: 0.708000\n",
            "Epoch 55, CIFAR-10 Batch 4:  Loss:     0.0001 Validation Accuracy: 0.699800\n",
            "Epoch 55, CIFAR-10 Batch 5:  Loss:     0.0000 Validation Accuracy: 0.706800\n",
            "Epoch 56, CIFAR-10 Batch 1:  Loss:     0.0000 Validation Accuracy: 0.708000\n",
            "Epoch 56, CIFAR-10 Batch 2:  Loss:     0.0001 Validation Accuracy: 0.693000\n",
            "Epoch 56, CIFAR-10 Batch 3:  Loss:     0.0000 Validation Accuracy: 0.705400\n",
            "Epoch 56, CIFAR-10 Batch 4:  Loss:     0.0004 Validation Accuracy: 0.692600\n",
            "Epoch 56, CIFAR-10 Batch 5:  Loss:     0.0002 Validation Accuracy: 0.707800\n",
            "Epoch 57, CIFAR-10 Batch 1:  Loss:     0.0005 Validation Accuracy: 0.701000\n",
            "Epoch 57, CIFAR-10 Batch 2:  Loss:     0.0001 Validation Accuracy: 0.706600\n",
            "Epoch 57, CIFAR-10 Batch 3:  Loss:     0.0005 Validation Accuracy: 0.702400\n",
            "Epoch 57, CIFAR-10 Batch 4:  Loss:     0.0001 Validation Accuracy: 0.697200\n",
            "Epoch 57, CIFAR-10 Batch 5:  Loss:     0.0004 Validation Accuracy: 0.704200\n",
            "Epoch 58, CIFAR-10 Batch 1:  Loss:     0.0000 Validation Accuracy: 0.704600\n",
            "Epoch 58, CIFAR-10 Batch 2:  Loss:     0.0000 Validation Accuracy: 0.705000\n"
          ],
          "name": "stdout"
        },
        {
          "output_type": "stream",
          "text": [
            "Epoch 58, CIFAR-10 Batch 3:  Loss:     0.0008 Validation Accuracy: 0.701000\n",
            "Epoch 58, CIFAR-10 Batch 4:  Loss:     0.0001 Validation Accuracy: 0.703600\n",
            "Epoch 58, CIFAR-10 Batch 5:  Loss:     0.0002 Validation Accuracy: 0.706600\n",
            "Epoch 59, CIFAR-10 Batch 1:  Loss:     0.0000 Validation Accuracy: 0.699200\n",
            "Epoch 59, CIFAR-10 Batch 2:  Loss:     0.0002 Validation Accuracy: 0.700600\n",
            "Epoch 59, CIFAR-10 Batch 3:  Loss:     0.0005 Validation Accuracy: 0.683200\n",
            "Epoch 59, CIFAR-10 Batch 4:  Loss:     0.0004 Validation Accuracy: 0.693000\n",
            "Epoch 59, CIFAR-10 Batch 5:  Loss:     0.0001 Validation Accuracy: 0.700000\n",
            "Epoch 60, CIFAR-10 Batch 1:  Loss:     0.0000 Validation Accuracy: 0.696600\n",
            "Epoch 60, CIFAR-10 Batch 2:  Loss:     0.0003 Validation Accuracy: 0.701800\n",
            "Epoch 60, CIFAR-10 Batch 3:  Loss:     0.0001 Validation Accuracy: 0.703200\n",
            "Epoch 60, CIFAR-10 Batch 4:  Loss:     0.0000 Validation Accuracy: 0.702600\n",
            "Epoch 60, CIFAR-10 Batch 5:  Loss:     0.0000 Validation Accuracy: 0.701400\n",
            "Epoch 61, CIFAR-10 Batch 1:  Loss:     0.0003 Validation Accuracy: 0.698800\n",
            "Epoch 61, CIFAR-10 Batch 2:  Loss:     0.0000 Validation Accuracy: 0.703400\n",
            "Epoch 61, CIFAR-10 Batch 3:  Loss:     0.0006 Validation Accuracy: 0.702600\n",
            "Epoch 61, CIFAR-10 Batch 4:  Loss:     0.0000 Validation Accuracy: 0.698200\n",
            "Epoch 61, CIFAR-10 Batch 5:  Loss:     0.0000 Validation Accuracy: 0.707400\n",
            "Epoch 62, CIFAR-10 Batch 1:  Loss:     0.0001 Validation Accuracy: 0.687200\n",
            "Epoch 62, CIFAR-10 Batch 2:  Loss:     0.0001 Validation Accuracy: 0.702000\n",
            "Epoch 62, CIFAR-10 Batch 3:  Loss:     0.0002 Validation Accuracy: 0.696800\n",
            "Epoch 62, CIFAR-10 Batch 4:  Loss:     0.0001 Validation Accuracy: 0.696200\n",
            "Epoch 62, CIFAR-10 Batch 5:  Loss:     0.0004 Validation Accuracy: 0.689200\n",
            "Epoch 63, CIFAR-10 Batch 1:  Loss:     0.0000 Validation Accuracy: 0.708200\n",
            "Epoch 63, CIFAR-10 Batch 2:  Loss:     0.0000 Validation Accuracy: 0.699600\n",
            "Epoch 63, CIFAR-10 Batch 3:  Loss:     0.0000 Validation Accuracy: 0.695200\n",
            "Epoch 63, CIFAR-10 Batch 4:  Loss:     0.0003 Validation Accuracy: 0.683400\n",
            "Epoch 63, CIFAR-10 Batch 5:  Loss:     0.0001 Validation Accuracy: 0.694400\n",
            "Epoch 64, CIFAR-10 Batch 1:  Loss:     0.0002 Validation Accuracy: 0.698600\n",
            "Epoch 64, CIFAR-10 Batch 2:  Loss:     0.0001 Validation Accuracy: 0.698800\n",
            "Epoch 64, CIFAR-10 Batch 3:  Loss:     0.0000 Validation Accuracy: 0.697000\n",
            "Epoch 64, CIFAR-10 Batch 4:  Loss:     0.0000 Validation Accuracy: 0.688000\n",
            "Epoch 64, CIFAR-10 Batch 5:  Loss:     0.0000 Validation Accuracy: 0.699400\n",
            "Epoch 65, CIFAR-10 Batch 1:  Loss:     0.0002 Validation Accuracy: 0.696400\n",
            "Epoch 65, CIFAR-10 Batch 2:  Loss:     0.0000 Validation Accuracy: 0.695600\n",
            "Epoch 65, CIFAR-10 Batch 3:  Loss:     0.0000 Validation Accuracy: 0.708200\n"
          ],
          "name": "stdout"
        },
        {
          "output_type": "stream",
          "text": [
            "Epoch 65, CIFAR-10 Batch 4:  Loss:     0.0000 Validation Accuracy: 0.701000\n",
            "Epoch 65, CIFAR-10 Batch 5:  Loss:     0.0000 Validation Accuracy: 0.691400\n",
            "Epoch 66, CIFAR-10 Batch 1:  Loss:     0.0002 Validation Accuracy: 0.702600\n",
            "Epoch 66, CIFAR-10 Batch 2:  Loss:     0.0000 Validation Accuracy: 0.695800\n",
            "Epoch 66, CIFAR-10 Batch 3:  Loss:     0.0001 Validation Accuracy: 0.700000\n",
            "Epoch 66, CIFAR-10 Batch 4:  Loss:     0.0000 Validation Accuracy: 0.698800\n",
            "Epoch 66, CIFAR-10 Batch 5:  Loss:     0.0004 Validation Accuracy: 0.689000\n",
            "Epoch 67, CIFAR-10 Batch 1:  Loss:     0.0004 Validation Accuracy: 0.696600\n",
            "Epoch 67, CIFAR-10 Batch 2:  Loss:     0.0000 Validation Accuracy: 0.698200\n",
            "Epoch 67, CIFAR-10 Batch 3:  Loss:     0.0002 Validation Accuracy: 0.698200\n",
            "Epoch 67, CIFAR-10 Batch 4:  Loss:     0.0005 Validation Accuracy: 0.701600\n",
            "Epoch 67, CIFAR-10 Batch 5:  Loss:     0.0000 Validation Accuracy: 0.702600\n",
            "Epoch 68, CIFAR-10 Batch 1:  Loss:     0.0000 Validation Accuracy: 0.699800\n",
            "Epoch 68, CIFAR-10 Batch 2:  Loss:     0.0001 Validation Accuracy: 0.698800\n",
            "Epoch 68, CIFAR-10 Batch 3:  Loss:     0.0002 Validation Accuracy: 0.695000\n",
            "Epoch 68, CIFAR-10 Batch 4:  Loss:     0.0003 Validation Accuracy: 0.703200\n",
            "Epoch 68, CIFAR-10 Batch 5:  Loss:     0.0000 Validation Accuracy: 0.698000\n",
            "Epoch 69, CIFAR-10 Batch 1:  Loss:     0.0001 Validation Accuracy: 0.702000\n",
            "Epoch 69, CIFAR-10 Batch 2:  Loss:     0.0003 Validation Accuracy: 0.693200\n",
            "Epoch 69, CIFAR-10 Batch 3:  Loss:     0.0001 Validation Accuracy: 0.694200\n",
            "Epoch 69, CIFAR-10 Batch 4:  Loss:     0.0011 Validation Accuracy: 0.691400\n",
            "Epoch 69, CIFAR-10 Batch 5:  Loss:     0.0000 Validation Accuracy: 0.699200\n",
            "Epoch 70, CIFAR-10 Batch 1:  Loss:     0.0000 Validation Accuracy: 0.701000\n",
            "Epoch 70, CIFAR-10 Batch 2:  Loss:     0.0011 Validation Accuracy: 0.702800\n",
            "Epoch 70, CIFAR-10 Batch 3:  Loss:     0.0000 Validation Accuracy: 0.691400\n",
            "Epoch 70, CIFAR-10 Batch 4:  Loss:     0.0000 Validation Accuracy: 0.701600\n",
            "Epoch 70, CIFAR-10 Batch 5:  Loss:     0.0000 Validation Accuracy: 0.702200\n",
            "Epoch 71, CIFAR-10 Batch 1:  Loss:     0.0004 Validation Accuracy: 0.704800\n",
            "Epoch 71, CIFAR-10 Batch 2:  Loss:     0.0000 Validation Accuracy: 0.704600\n",
            "Epoch 71, CIFAR-10 Batch 3:  Loss:     0.0002 Validation Accuracy: 0.697800\n",
            "Epoch 71, CIFAR-10 Batch 4:  Loss:     0.0001 Validation Accuracy: 0.691600\n",
            "Epoch 71, CIFAR-10 Batch 5:  Loss:     0.0000 Validation Accuracy: 0.703600\n",
            "Epoch 72, CIFAR-10 Batch 1:  Loss:     0.0001 Validation Accuracy: 0.699400\n",
            "Epoch 72, CIFAR-10 Batch 2:  Loss:     0.0000 Validation Accuracy: 0.703000\n",
            "Epoch 72, CIFAR-10 Batch 3:  Loss:     0.0001 Validation Accuracy: 0.706800\n",
            "Epoch 72, CIFAR-10 Batch 4:  Loss:     0.0000 Validation Accuracy: 0.713800\n",
            "Epoch 72, CIFAR-10 Batch 5:  "
          ],
          "name": "stdout"
        },
        {
          "output_type": "stream",
          "text": [
            "Loss:     0.0002 Validation Accuracy: 0.706600\n",
            "Epoch 73, CIFAR-10 Batch 1:  Loss:     0.0000 Validation Accuracy: 0.704400\n",
            "Epoch 73, CIFAR-10 Batch 2:  Loss:     0.0001 Validation Accuracy: 0.698000\n",
            "Epoch 73, CIFAR-10 Batch 3:  Loss:     0.0000 Validation Accuracy: 0.703400\n",
            "Epoch 73, CIFAR-10 Batch 4:  Loss:     0.0000 Validation Accuracy: 0.693000\n",
            "Epoch 73, CIFAR-10 Batch 5:  Loss:     0.0000 Validation Accuracy: 0.699400\n",
            "Epoch 74, CIFAR-10 Batch 1:  Loss:     0.0000 Validation Accuracy: 0.700800\n",
            "Epoch 74, CIFAR-10 Batch 2:  Loss:     0.0008 Validation Accuracy: 0.692600\n",
            "Epoch 74, CIFAR-10 Batch 3:  Loss:     0.0000 Validation Accuracy: 0.699000\n",
            "Epoch 74, CIFAR-10 Batch 4:  Loss:     0.0001 Validation Accuracy: 0.698600\n",
            "Epoch 74, CIFAR-10 Batch 5:  Loss:     0.0000 Validation Accuracy: 0.708000\n",
            "Epoch 75, CIFAR-10 Batch 1:  Loss:     0.0000 Validation Accuracy: 0.699400\n",
            "Epoch 75, CIFAR-10 Batch 2:  Loss:     0.0006 Validation Accuracy: 0.693600\n",
            "Epoch 75, CIFAR-10 Batch 3:  Loss:     0.0000 Validation Accuracy: 0.706600\n",
            "Epoch 75, CIFAR-10 Batch 4:  Loss:     0.0006 Validation Accuracy: 0.694200\n",
            "Epoch 75, CIFAR-10 Batch 5:  Loss:     0.0006 Validation Accuracy: 0.700400\n",
            "Epoch 76, CIFAR-10 Batch 1:  Loss:     0.0000 Validation Accuracy: 0.702400\n",
            "Epoch 76, CIFAR-10 Batch 2:  Loss:     0.0001 Validation Accuracy: 0.705200\n",
            "Epoch 76, CIFAR-10 Batch 3:  Loss:     0.0005 Validation Accuracy: 0.700800\n",
            "Epoch 76, CIFAR-10 Batch 4:  Loss:     0.0009 Validation Accuracy: 0.702000\n",
            "Epoch 76, CIFAR-10 Batch 5:  Loss:     0.0001 Validation Accuracy: 0.708600\n",
            "Epoch 77, CIFAR-10 Batch 1:  Loss:     0.0000 Validation Accuracy: 0.706000\n",
            "Epoch 77, CIFAR-10 Batch 2:  Loss:     0.0000 Validation Accuracy: 0.703600\n",
            "Epoch 77, CIFAR-10 Batch 3:  Loss:     0.0001 Validation Accuracy: 0.700800\n",
            "Epoch 77, CIFAR-10 Batch 4:  Loss:     0.0000 Validation Accuracy: 0.707600\n",
            "Epoch 77, CIFAR-10 Batch 5:  Loss:     0.0000 Validation Accuracy: 0.709600\n",
            "Epoch 78, CIFAR-10 Batch 1:  Loss:     0.0001 Validation Accuracy: 0.709400\n",
            "Epoch 78, CIFAR-10 Batch 2:  Loss:     0.0002 Validation Accuracy: 0.701400\n",
            "Epoch 78, CIFAR-10 Batch 3:  Loss:     0.0000 Validation Accuracy: 0.701200\n",
            "Epoch 78, CIFAR-10 Batch 4:  Loss:     0.0000 Validation Accuracy: 0.706400\n",
            "Epoch 78, CIFAR-10 Batch 5:  Loss:     0.0000 Validation Accuracy: 0.711800\n",
            "Epoch 79, CIFAR-10 Batch 1:  Loss:     0.0000 Validation Accuracy: 0.704000\n",
            "Epoch 79, CIFAR-10 Batch 2:  Loss:     0.0001 Validation Accuracy: 0.704600\n",
            "Epoch 79, CIFAR-10 Batch 3:  Loss:     0.0000 Validation Accuracy: 0.709200\n",
            "Epoch 79, CIFAR-10 Batch 4:  Loss:     0.0001 Validation Accuracy: 0.699800\n",
            "Epoch 79, CIFAR-10 Batch 5:  Loss:     0.0000 Validation Accuracy: 0.702400\n",
            "Epoch 80, CIFAR-10 Batch 1:  "
          ],
          "name": "stdout"
        },
        {
          "output_type": "stream",
          "text": [
            "Loss:     0.0000 Validation Accuracy: 0.712800\n",
            "Epoch 80, CIFAR-10 Batch 2:  Loss:     0.0005 Validation Accuracy: 0.707400\n",
            "Epoch 80, CIFAR-10 Batch 3:  Loss:     0.0000 Validation Accuracy: 0.709200\n",
            "Epoch 80, CIFAR-10 Batch 4:  Loss:     0.0002 Validation Accuracy: 0.702600\n",
            "Epoch 80, CIFAR-10 Batch 5:  Loss:     0.0000 Validation Accuracy: 0.700600\n"
          ],
          "name": "stdout"
        }
      ]
    },
    {
      "metadata": {
        "id": "pUCz2G7KUprj",
        "colab_type": "text"
      },
      "cell_type": "markdown",
      "source": [
        "# Checkpoint\n",
        "The model has been saved to disk.\n",
        "## Test Model\n",
        "Test your model against the test dataset.  This will be your final accuracy. You should have an accuracy greater than 50%. If you don't, keep tweaking the model architecture and parameters."
      ]
    },
    {
      "metadata": {
        "id": "wuYVxP28Uprk",
        "colab_type": "code",
        "colab": {
          "autoexec": {
            "startup": false,
            "wait_interval": 0
          },
          "base_uri": "https://localhost:8080/",
          "height": 387
        },
        "outputId": "edd5c39c-a31a-4495-c782-864b7a7ef283",
        "executionInfo": {
          "status": "ok",
          "timestamp": 1526810643179,
          "user_tz": -330,
          "elapsed": 11078,
          "user": {
            "displayName": "Anirudh Ramanan",
            "photoUrl": "//lh5.googleusercontent.com/-kMZhKh_0Vb0/AAAAAAAAAAI/AAAAAAAAADA/FyyNUl3dTFs/s50-c-k-no/photo.jpg",
            "userId": "107972823913344955047"
          }
        }
      },
      "cell_type": "code",
      "source": [
        "\"\"\"\n",
        "DON'T MODIFY ANYTHING IN THIS CELL\n",
        "\"\"\"\n",
        "%matplotlib inline\n",
        "%config InlineBackend.figure_format = 'retina'\n",
        "\n",
        "import tensorflow as tf\n",
        "import pickle\n",
        "import helper\n",
        "import random\n",
        "\n",
        "# Set batch size if not already set\n",
        "try:\n",
        "    if batch_size:\n",
        "        pass\n",
        "except NameError:\n",
        "    batch_size = 64\n",
        "\n",
        "save_model_path = './image_classification'\n",
        "n_samples = 4\n",
        "top_n_predictions = 3\n",
        "\n",
        "def test_model():\n",
        "    \"\"\"\n",
        "    Test the saved model against the test dataset\n",
        "    \"\"\"\n",
        "\n",
        "    test_features, test_labels = pickle.load(open('preprocess_training.p', mode='rb'))\n",
        "    loaded_graph = tf.Graph()\n",
        "\n",
        "    with tf.Session(graph=loaded_graph) as sess:\n",
        "        # Load model\n",
        "        loader = tf.train.import_meta_graph(save_model_path + '.meta')\n",
        "        loader.restore(sess, save_model_path)\n",
        "\n",
        "        # Get Tensors from loaded model\n",
        "        loaded_x = loaded_graph.get_tensor_by_name('x:0')\n",
        "        loaded_y = loaded_graph.get_tensor_by_name('y:0')\n",
        "        loaded_keep_prob = loaded_graph.get_tensor_by_name('keep_prob:0')\n",
        "        loaded_logits = loaded_graph.get_tensor_by_name('logits:0')\n",
        "        loaded_acc = loaded_graph.get_tensor_by_name('accuracy:0')\n",
        "        \n",
        "        # Get accuracy in batches for memory limitations\n",
        "        test_batch_acc_total = 0\n",
        "        test_batch_count = 0\n",
        "        \n",
        "        for train_feature_batch, train_label_batch in helper.batch_features_labels(test_features, test_labels, batch_size):\n",
        "            test_batch_acc_total += sess.run(\n",
        "                loaded_acc,\n",
        "                feed_dict={loaded_x: train_feature_batch, loaded_y: train_label_batch, loaded_keep_prob: 1.0})\n",
        "            test_batch_count += 1\n",
        "\n",
        "        print('Testing Accuracy: {}\\n'.format(test_batch_acc_total/test_batch_count))\n",
        "\n",
        "        # Print Random Samples\n",
        "        random_test_features, random_test_labels = tuple(zip(*random.sample(list(zip(test_features, test_labels)), n_samples)))\n",
        "        random_test_predictions = sess.run(\n",
        "            tf.nn.top_k(tf.nn.softmax(loaded_logits), top_n_predictions),\n",
        "            feed_dict={loaded_x: random_test_features, loaded_y: random_test_labels, loaded_keep_prob: 1.0})\n",
        "        helper.display_image_predictions(random_test_features, random_test_labels, random_test_predictions)\n",
        "\n",
        "\n",
        "test_model()"
      ],
      "execution_count": 38,
      "outputs": [
        {
          "output_type": "stream",
          "text": [
            "INFO:tensorflow:Restoring parameters from ./image_classification\n",
            "Testing Accuracy: 0.69443359375\n",
            "\n"
          ],
          "name": "stdout"
        },
        {
          "output_type": "display_data",
          "data": {
            "image/png": "[encoded data removed]",
            "text/plain": [
              "<matplotlib.figure.Figure at 0x7f408072ca20>"
            ]
          },
          "metadata": {
            "tags": [],
            "image/png": {
              "width": 354,
              "height": 319
            }
          }
        }
      ]
    },
    {
      "metadata": {
        "id": "JOpOPRKpUprm",
        "colab_type": "text"
      },
      "cell_type": "markdown",
      "source": [
        "## Why 50-80% Accuracy?\n",
        "You might be wondering why you can't get an accuracy any higher. First things first, 50% isn't bad for a simple CNN.  Pure guessing would get you 10% accuracy. That's because there are many more techniques that can be applied to your model and we recemmond that once you are done with this project, you explore!\n",
        "\n",
        "## Submitting This Project\n",
        "When submitting this project, make sure to run all the cells before saving the notebook.  Save the notebook file as \"image_classification.ipynb\" and save it as a HTML file under \"File\" -> \"Download as\".  Include the \"helper.py\" and \"problem_unittests.py\" files in your submission."
      ]
    }
  ]
}